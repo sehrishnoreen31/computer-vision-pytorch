{
 "cells": [
  {
   "cell_type": "code",
   "execution_count": 1,
   "id": "3bdf2f22",
   "metadata": {
    "_cell_guid": "b1076dfc-b9ad-4769-8c92-a6c4dae69d19",
    "_uuid": "8f2839f25d086af736a60e9eeb907d3b93b6e0e5",
    "execution": {
     "iopub.execute_input": "2025-09-28T05:27:25.291078Z",
     "iopub.status.busy": "2025-09-28T05:27:25.290872Z",
     "iopub.status.idle": "2025-09-28T05:27:42.781811Z",
     "shell.execute_reply": "2025-09-28T05:27:42.780855Z"
    },
    "papermill": {
     "duration": 17.495404,
     "end_time": "2025-09-28T05:27:42.783197",
     "exception": false,
     "start_time": "2025-09-28T05:27:25.287793",
     "status": "completed"
    },
    "tags": []
   },
   "outputs": [
    {
     "name": "stdout",
     "output_type": "stream",
     "text": [
      "Requirement already satisfied: torchsummary in /usr/local/lib/python3.11/dist-packages (1.5.1)\r\n"
     ]
    }
   ],
   "source": [
    "import torch\n",
    "import torch.nn as nn\n",
    "import matplotlib.pyplot as plt\n",
    "%matplotlib inline\n",
    "import numpy as np\n",
    "from torch.utils.data import Dataset, TensorDataset, DataLoader\n",
    "from torch.optim import SGD, Adam\n",
    "from torchvision import datasets\n",
    "!pip install torchsummary\n",
    "from torchsummary import summary"
   ]
  },
  {
   "cell_type": "code",
   "execution_count": 2,
   "id": "152c9376",
   "metadata": {
    "execution": {
     "iopub.execute_input": "2025-09-28T05:27:42.789988Z",
     "iopub.status.busy": "2025-09-28T05:27:42.789196Z",
     "iopub.status.idle": "2025-09-28T05:27:42.880560Z",
     "shell.execute_reply": "2025-09-28T05:27:42.879904Z"
    },
    "papermill": {
     "duration": 0.094981,
     "end_time": "2025-09-28T05:27:42.881591",
     "exception": false,
     "start_time": "2025-09-28T05:27:42.786610",
     "status": "completed"
    },
    "tags": []
   },
   "outputs": [
    {
     "data": {
      "text/plain": [
       "'cuda'"
      ]
     },
     "execution_count": 2,
     "metadata": {},
     "output_type": "execute_result"
    }
   ],
   "source": [
    "device = 'cuda' if torch.cuda.is_available() else 'cpu'\n",
    "device"
   ]
  },
  {
   "cell_type": "code",
   "execution_count": 3,
   "id": "fab1d4bf",
   "metadata": {
    "execution": {
     "iopub.execute_input": "2025-09-28T05:27:42.886291Z",
     "iopub.status.busy": "2025-09-28T05:27:42.886078Z",
     "iopub.status.idle": "2025-09-28T05:27:43.166256Z",
     "shell.execute_reply": "2025-09-28T05:27:43.165485Z"
    },
    "papermill": {
     "duration": 0.283741,
     "end_time": "2025-09-28T05:27:43.167415",
     "exception": false,
     "start_time": "2025-09-28T05:27:42.883674",
     "status": "completed"
    },
    "tags": []
   },
   "outputs": [
    {
     "name": "stdout",
     "output_type": "stream",
     "text": [
      "torch.Size([2, 1, 4, 4])\n"
     ]
    }
   ],
   "source": [
    "# input data for cnn\n",
    "X_train = torch.tensor([\n",
    "# sample 1\n",
    " [[[1,2,3,4],[2,3,4,5],\n",
    " [5,6,7,8],[1,3,4,5]]],\n",
    "# sample 2\n",
    " [[[-1,2,3,-4],[2,-3,4,5],\n",
    " [-5,6,-7,8],[-1,-3,-4,-5]]]\n",
    " ]).to(device).float()\n",
    "\n",
    "X_train /= 8 # scalling\n",
    "print(X_train.shape)\n",
    "# targets\n",
    "y_train = torch.tensor([0,1]).to(device).float()"
   ]
  },
  {
   "cell_type": "code",
   "execution_count": 4,
   "id": "d83c32ea",
   "metadata": {
    "execution": {
     "iopub.execute_input": "2025-09-28T05:27:43.172835Z",
     "iopub.status.busy": "2025-09-28T05:27:43.172265Z",
     "iopub.status.idle": "2025-09-28T05:27:43.176675Z",
     "shell.execute_reply": "2025-09-28T05:27:43.176113Z"
    },
    "papermill": {
     "duration": 0.008115,
     "end_time": "2025-09-28T05:27:43.177770",
     "exception": false,
     "start_time": "2025-09-28T05:27:43.169655",
     "status": "completed"
    },
    "tags": []
   },
   "outputs": [],
   "source": [
    "# model architecture\n",
    "def get_model():\n",
    "    model = nn.Sequential(\n",
    "        nn.Conv2d(in_channels=1, out_channels=1, kernel_size=3),\n",
    "        nn.MaxPool2d(kernel_size=2),\n",
    "        nn.ReLU(),\n",
    "        nn.Flatten(),\n",
    "        nn.Linear(in_features=1, out_features=1),\n",
    "        nn.Sigmoid(),\n",
    "    ).to(device)\n",
    "    loss_func = nn.BCELoss()\n",
    "    optimizer = Adam(model.parameters(), lr=0.001)\n",
    "    return model, loss_func, optimizer"
   ]
  },
  {
   "cell_type": "code",
   "execution_count": 5,
   "id": "33aa5cb1",
   "metadata": {
    "execution": {
     "iopub.execute_input": "2025-09-28T05:27:43.182410Z",
     "iopub.status.busy": "2025-09-28T05:27:43.182198Z",
     "iopub.status.idle": "2025-09-28T05:27:44.057005Z",
     "shell.execute_reply": "2025-09-28T05:27:44.056189Z"
    },
    "papermill": {
     "duration": 0.878982,
     "end_time": "2025-09-28T05:27:44.058649",
     "exception": false,
     "start_time": "2025-09-28T05:27:43.179667",
     "status": "completed"
    },
    "tags": []
   },
   "outputs": [
    {
     "name": "stdout",
     "output_type": "stream",
     "text": [
      "----------------------------------------------------------------\n",
      "        Layer (type)               Output Shape         Param #\n",
      "================================================================\n",
      "            Conv2d-1              [-1, 1, 2, 2]              10\n",
      "         MaxPool2d-2              [-1, 1, 1, 1]               0\n",
      "              ReLU-3              [-1, 1, 1, 1]               0\n",
      "           Flatten-4                    [-1, 1]               0\n",
      "            Linear-5                    [-1, 1]               2\n",
      "           Sigmoid-6                    [-1, 1]               0\n",
      "================================================================\n",
      "Total params: 12\n",
      "Trainable params: 12\n",
      "Non-trainable params: 0\n",
      "----------------------------------------------------------------\n",
      "Input size (MB): 0.00\n",
      "Forward/backward pass size (MB): 0.00\n",
      "Params size (MB): 0.00\n",
      "Estimated Total Size (MB): 0.00\n",
      "----------------------------------------------------------------\n"
     ]
    }
   ],
   "source": [
    "# model summary \n",
    "model, loss_func, optimizer = get_model()\n",
    "summary(model, X_train.shape[1:])"
   ]
  },
  {
   "cell_type": "code",
   "execution_count": 6,
   "id": "eed2a102",
   "metadata": {
    "execution": {
     "iopub.execute_input": "2025-09-28T05:27:44.064539Z",
     "iopub.status.busy": "2025-09-28T05:27:44.064291Z",
     "iopub.status.idle": "2025-09-28T05:27:44.068399Z",
     "shell.execute_reply": "2025-09-28T05:27:44.067736Z"
    },
    "papermill": {
     "duration": 0.008433,
     "end_time": "2025-09-28T05:27:44.069699",
     "exception": false,
     "start_time": "2025-09-28T05:27:44.061266",
     "status": "completed"
    },
    "tags": []
   },
   "outputs": [],
   "source": [
    "# train batches\n",
    "def train_batch(x, y, model, optimizer, loss_func):\n",
    "    model.train()\n",
    "    pred = model(x)\n",
    "    batch_loss = loss_func(pred.squeeze(0), y)\n",
    "    batch_loss.backward()\n",
    "    optimizer.step()\n",
    "    optimizer.zero_grad()\n",
    "    return batch_loss.item()"
   ]
  },
  {
   "cell_type": "code",
   "execution_count": 7,
   "id": "e78c7f08",
   "metadata": {
    "execution": {
     "iopub.execute_input": "2025-09-28T05:27:44.074587Z",
     "iopub.status.busy": "2025-09-28T05:27:44.074168Z",
     "iopub.status.idle": "2025-09-28T05:27:44.077719Z",
     "shell.execute_reply": "2025-09-28T05:27:44.077161Z"
    },
    "papermill": {
     "duration": 0.006968,
     "end_time": "2025-09-28T05:27:44.078664",
     "exception": false,
     "start_time": "2025-09-28T05:27:44.071696",
     "status": "completed"
    },
    "tags": []
   },
   "outputs": [],
   "source": [
    "# load data\n",
    "train_dl = DataLoader(TensorDataset(X_train, y_train))"
   ]
  },
  {
   "cell_type": "code",
   "execution_count": 8,
   "id": "746d1d34",
   "metadata": {
    "execution": {
     "iopub.execute_input": "2025-09-28T05:27:44.083584Z",
     "iopub.status.busy": "2025-09-28T05:27:44.083153Z",
     "iopub.status.idle": "2025-09-28T05:27:53.403363Z",
     "shell.execute_reply": "2025-09-28T05:27:53.402869Z"
    },
    "papermill": {
     "duration": 9.324208,
     "end_time": "2025-09-28T05:27:53.404826",
     "exception": false,
     "start_time": "2025-09-28T05:27:44.080618",
     "status": "completed"
    },
    "tags": []
   },
   "outputs": [],
   "source": [
    "# model training\n",
    "for epoch in range(3000):\n",
    "    for ix, batch in enumerate(iter(train_dl)):\n",
    "        x, y = batch\n",
    "        batch_loss = train_batch(x, y, model, optimizer, loss_func)"
   ]
  },
  {
   "cell_type": "code",
   "execution_count": 9,
   "id": "effb32dc",
   "metadata": {
    "execution": {
     "iopub.execute_input": "2025-09-28T05:27:53.409807Z",
     "iopub.status.busy": "2025-09-28T05:27:53.409603Z",
     "iopub.status.idle": "2025-09-28T05:27:53.738863Z",
     "shell.execute_reply": "2025-09-28T05:27:53.738071Z"
    },
    "papermill": {
     "duration": 0.333101,
     "end_time": "2025-09-28T05:27:53.740123",
     "exception": false,
     "start_time": "2025-09-28T05:27:53.407022",
     "status": "completed"
    },
    "tags": []
   },
   "outputs": [
    {
     "data": {
      "text/plain": [
       "tensor([[0.5063]], device='cuda:0', grad_fn=<SigmoidBackward0>)"
      ]
     },
     "execution_count": 9,
     "metadata": {},
     "output_type": "execute_result"
    }
   ],
   "source": [
    "model(X_train[:1])"
   ]
  }
 ],
 "metadata": {
  "kaggle": {
   "accelerator": "nvidiaTeslaT4",
   "dataSources": [],
   "dockerImageVersionId": 31090,
   "isGpuEnabled": true,
   "isInternetEnabled": true,
   "language": "python",
   "sourceType": "notebook"
  },
  "kernelspec": {
   "display_name": "Python 3",
   "language": "python",
   "name": "python3"
  },
  "language_info": {
   "codemirror_mode": {
    "name": "ipython",
    "version": 3
   },
   "file_extension": ".py",
   "mimetype": "text/x-python",
   "name": "python",
   "nbconvert_exporter": "python",
   "pygments_lexer": "ipython3",
   "version": "3.11.13"
  },
  "papermill": {
   "default_parameters": {},
   "duration": 35.794599,
   "end_time": "2025-09-28T05:27:55.663897",
   "environment_variables": {},
   "exception": null,
   "input_path": "__notebook__.ipynb",
   "output_path": "__notebook__.ipynb",
   "parameters": {},
   "start_time": "2025-09-28T05:27:19.869298",
   "version": "2.6.0"
  }
 },
 "nbformat": 4,
 "nbformat_minor": 5
}
