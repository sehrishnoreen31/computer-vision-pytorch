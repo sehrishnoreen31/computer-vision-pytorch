{
 "cells": [
  {
   "cell_type": "code",
   "execution_count": 1,
   "id": "b305d8a3",
   "metadata": {
    "_cell_guid": "b1076dfc-b9ad-4769-8c92-a6c4dae69d19",
    "_uuid": "8f2839f25d086af736a60e9eeb907d3b93b6e0e5",
    "execution": {
     "iopub.execute_input": "2025-09-20T06:40:55.207249Z",
     "iopub.status.busy": "2025-09-20T06:40:55.206840Z",
     "iopub.status.idle": "2025-09-20T06:40:55.458195Z",
     "shell.execute_reply": "2025-09-20T06:40:55.457281Z"
    },
    "papermill": {
     "duration": 0.256472,
     "end_time": "2025-09-20T06:40:55.459956",
     "exception": false,
     "start_time": "2025-09-20T06:40:55.203484",
     "status": "completed"
    },
    "tags": []
   },
   "outputs": [],
   "source": [
    "import cv2, matplotlib as pyplot\n",
    "%matplotlib inline"
   ]
  },
  {
   "cell_type": "code",
   "execution_count": 2,
   "id": "77e39cec",
   "metadata": {
    "execution": {
     "iopub.execute_input": "2025-09-20T06:40:55.464369Z",
     "iopub.status.busy": "2025-09-20T06:40:55.463869Z",
     "iopub.status.idle": "2025-09-20T06:40:55.787743Z",
     "shell.execute_reply": "2025-09-20T06:40:55.786676Z"
    },
    "papermill": {
     "duration": 0.32779,
     "end_time": "2025-09-20T06:40:55.789538",
     "exception": false,
     "start_time": "2025-09-20T06:40:55.461748",
     "status": "completed"
    },
    "tags": []
   },
   "outputs": [
    {
     "name": "stdout",
     "output_type": "stream",
     "text": [
      "--2025-09-20 06:40:55--  https://images.unsplash.com/photo-1575936123452-b67c3203c357?q=80&w=870&auto=format&fit=crop&ixlib=rb-4.1.0&ixid=M3wxMjA3fDB8MHxwaG90by1wYWdlfHx8fGVufDB8fHx8fA%3D%3D\r\n",
      "Resolving images.unsplash.com (images.unsplash.com)... 151.101.130.208, 151.101.194.208, 151.101.2.208, ...\r\n",
      "Connecting to images.unsplash.com (images.unsplash.com)|151.101.130.208|:443... connected.\r\n",
      "HTTP request sent, awaiting response... 200 OK\r\n",
      "Length: 76714 (75K) [image/jpeg]\r\n",
      "Saving to: ‘/kaggle/working/my_image.jpg’\r\n",
      "\r\n",
      "/kaggle/working/my_ 100%[===================>]  74.92K  --.-KB/s    in 0.03s   \r\n",
      "\r\n",
      "2025-09-20 06:40:55 (2.69 MB/s) - ‘/kaggle/working/my_image.jpg’ saved [76714/76714]\r\n",
      "\r\n"
     ]
    }
   ],
   "source": [
    "# download image\n",
    "!wget -O /kaggle/working/my_image.jpg 'https://images.unsplash.com/photo-1575936123452-b67c3203c357?q=80&w=870&auto=format&fit=crop&ixlib=rb-4.1.0&ixid=M3wxMjA3fDB8MHxwaG90by1wYWdlfHx8fGVufDB8fHx8fA%3D%3D'"
   ]
  },
  {
   "cell_type": "code",
   "execution_count": null,
   "id": "45ed827a",
   "metadata": {
    "papermill": {
     "duration": 0.001394,
     "end_time": "2025-09-20T06:40:55.792775",
     "exception": false,
     "start_time": "2025-09-20T06:40:55.791381",
     "status": "completed"
    },
    "tags": []
   },
   "outputs": [],
   "source": []
  }
 ],
 "metadata": {
  "kaggle": {
   "accelerator": "none",
   "dataSources": [],
   "dockerImageVersionId": 31089,
   "isGpuEnabled": false,
   "isInternetEnabled": true,
   "language": "python",
   "sourceType": "notebook"
  },
  "kernelspec": {
   "display_name": "Python 3",
   "language": "python",
   "name": "python3"
  },
  "language_info": {
   "codemirror_mode": {
    "name": "ipython",
    "version": 3
   },
   "file_extension": ".py",
   "mimetype": "text/x-python",
   "name": "python",
   "nbconvert_exporter": "python",
   "pygments_lexer": "ipython3",
   "version": "3.11.13"
  },
  "papermill": {
   "default_parameters": {},
   "duration": 6.070957,
   "end_time": "2025-09-20T06:40:56.112051",
   "environment_variables": {},
   "exception": null,
   "input_path": "__notebook__.ipynb",
   "output_path": "__notebook__.ipynb",
   "parameters": {},
   "start_time": "2025-09-20T06:40:50.041094",
   "version": "2.6.0"
  }
 },
 "nbformat": 4,
 "nbformat_minor": 5
}
