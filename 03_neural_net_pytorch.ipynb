{
 "cells": [
  {
   "cell_type": "code",
   "execution_count": null,
   "id": "db259b5c",
   "metadata": {},
   "outputs": [],
   "source": [
    "import torch \n",
    "import time\n",
    "import torch.nn as nn\n",
    "from torch.optim import SGD\n",
    "import matplotlib.pyplot as plt\n",
    "from torchsummary import summary\n",
    "from torch.utils.data import Dataset, DataLoader"
   ]
  },
  {
   "cell_type": "code",
   "execution_count": 70,
   "id": "299479c6",
   "metadata": {},
   "outputs": [],
   "source": [
    "import warnings\n",
    "warnings.filterwarnings('ignore', category=UserWarning)"
   ]
  },
  {
   "cell_type": "code",
   "execution_count": 71,
   "id": "163d6d3c",
   "metadata": {},
   "outputs": [],
   "source": [
    "x = [[3,4], [4,2], [5,2], [6,8]]\n",
    "y = [[3], [2], [3], [7]]\n",
    "\n",
    "X = torch.tensor(x).float()\n",
    "Y = torch.tensor(y).float()"
   ]
  },
  {
   "cell_type": "markdown",
   "id": "a0465442",
   "metadata": {},
   "source": [
    "## Simple Neural Net"
   ]
  },
  {
   "cell_type": "code",
   "execution_count": 72,
   "id": "fae4b4eb",
   "metadata": {},
   "outputs": [
    {
     "name": "stdout",
     "output_type": "stream",
     "text": [
      "parameters:\n",
      " [Parameter containing:\n",
      "tensor([[-0.7011, -0.5578],\n",
      "        [-0.3029, -0.6690],\n",
      "        [-0.0401, -0.6221],\n",
      "        [ 0.3845,  0.3446],\n",
      "        [ 0.1335,  0.5485],\n",
      "        [-0.0693,  0.4235],\n",
      "        [-0.4952, -0.1393]], requires_grad=True), Parameter containing:\n",
      "tensor([-0.6305, -0.0574, -0.4588,  0.6352,  0.4912,  0.5301,  0.2097],\n",
      "       requires_grad=True), Parameter containing:\n",
      "tensor([[-0.2156,  0.3396, -0.3688, -0.2412, -0.2361, -0.1567,  0.0754]],\n",
      "       requires_grad=True), Parameter containing:\n",
      "tensor([-0.2863], requires_grad=True)]\n"
     ]
    }
   ],
   "source": [
    "class MyNet(nn.Module):\n",
    "    def __init__(self):\n",
    "        super().__init__() # inherit nn module\n",
    "        # layers\n",
    "        self.input_to_hidden = nn.Linear(in_features=2, out_features=7, bias=True) # two inputs, 7 outputs\n",
    "        self.hidden_activation = nn.ReLU()\n",
    "        self.hidden_to_output = nn.Linear(in_features=7, out_features=1, bias=True) # 7 inputs, 1 output\n",
    "        '''The nn.Linear object is a callable module. When we call it like self.input_to_hidden(x), \n",
    "        we're invoking its __call__ method, which internally calls the forward method.'''\n",
    "    \n",
    "    # forward pass\n",
    "    def forward(self, x):\n",
    "        x = self.input_to_hidden(x)\n",
    "        x = self.hidden_activation(x)\n",
    "        x = self.hidden_to_output(x)\n",
    "        return x\n",
    "    \n",
    "# reproduce values\n",
    "torch.manual_seed(3)\n",
    "mynet = MyNet()\n",
    "# print('weights:\\n', mynet.input_to_hidden.weight) # weights only\n",
    "print('parameters:\\n', list(mynet.parameters())) # weights and biases"
   ]
  },
  {
   "cell_type": "code",
   "execution_count": 73,
   "id": "b65b5c14",
   "metadata": {},
   "outputs": [],
   "source": [
    "# # define neural net using nn.Parameter\n",
    "# class MyNet2(nn.Module):\n",
    "#     def __init__(self, *args, **kwargs):\n",
    "#         super().__init__(*args, **kwargs)\n",
    "#         self.input_to_hidden = nn.Parameter(torch.rand(2, 7))\n",
    "#         self.hidden_activation = nn.ReLU()\n",
    "#         self.hidden_to_output = nn.Parameter(torch.rand(8, 1))\n",
    "\n",
    "#     # forward pass\n",
    "#     def forward(self, x):\n",
    "#         x = x @ self.input_to_hidden\n",
    "#         x = self.hidden_activation(x)\n",
    "#         x = x @ self.hidden_to_output\n",
    "#         return x \n",
    "\n",
    "# # reproduce values\n",
    "# torch.manual_seed(3)\n",
    "# mynet = MyNet2()\n",
    "# # print('weights:\\n', mynet.input_to_hidden.weight) # weights only\n",
    "# print('\\nparameters:\\n', list(mynet.parameters())) # weights and biases"
   ]
  },
  {
   "cell_type": "code",
   "execution_count": 74,
   "id": "588bb020",
   "metadata": {},
   "outputs": [
    {
     "name": "stdout",
     "output_type": "stream",
     "text": [
      "tensor(43.3236, grad_fn=<MseLossBackward0>)\n"
     ]
    }
   ],
   "source": [
    "loss_func = nn.MSELoss() # loss function, mean squared error\n",
    "_Y = mynet(X) # predict \n",
    "loss_value = loss_func(_Y, Y) # calculate loss\n",
    "print(loss_value) "
   ]
  },
  {
   "cell_type": "code",
   "execution_count": 75,
   "id": "31d585ba",
   "metadata": {},
   "outputs": [],
   "source": [
    "loss_history = []\n",
    "# optimizer \n",
    "opt = SGD(mynet.parameters(), lr=0.001)\n",
    "for i in range(50):\n",
    "    opt.zero_grad() # flush previous epochs grads\n",
    "    loss_value = loss_func(mynet(X), Y) # calculate loss\n",
    "    # back prop\n",
    "    loss_value.backward()\n",
    "    opt.step() # update weights\n",
    "    # append current loss to loss history\n",
    "    loss_history.append(loss_value.item())"
   ]
  },
  {
   "cell_type": "code",
   "execution_count": 76,
   "id": "1cee246f",
   "metadata": {},
   "outputs": [
    {
     "name": "stdout",
     "output_type": "stream",
     "text": [
      "initial epoch loss:  43.32361602783203\n",
      "final epoch loss:  0.24372059106826782\n"
     ]
    }
   ],
   "source": [
    "print('initial epoch loss: ', loss_history[0])\n",
    "print('final epoch loss: ', loss_history[-1])"
   ]
  },
  {
   "cell_type": "code",
   "execution_count": 77,
   "id": "e39bfbff",
   "metadata": {},
   "outputs": [
    {
     "data": {
      "text/plain": [
       "Text(0.5, 1.0, 'Loss over increasing epochs')"
      ]
     },
     "execution_count": 77,
     "metadata": {},
     "output_type": "execute_result"
    },
    {
     "data": {
      "image/png": "[encoded data removed]",
      "text/plain": [
       "<Figure size 700x300 with 1 Axes>"
      ]
     },
     "metadata": {},
     "output_type": "display_data"
    }
   ],
   "source": [
    "# plot loss history\n",
    "plt.figure(figsize=(7, 3))\n",
    "plt.plot(loss_history, color='green')\n",
    "plt.xlabel('loss')\n",
    "plt.ylabel('epochs')\n",
    "plt.title('Loss over increasing epochs')"
   ]
  },
  {
   "cell_type": "markdown",
   "id": "d127b7b8",
   "metadata": {},
   "source": [
    "## Dataset, Dataset Loader, Bactch size"
   ]
  },
  {
   "cell_type": "code",
   "execution_count": 78,
   "id": "18566770",
   "metadata": {},
   "outputs": [
    {
     "name": "stdout",
     "output_type": "stream",
     "text": [
      "batch 1:\n",
      " tensor([[3., 4.],\n",
      "        [5., 1.]]) tensor([[3.],\n",
      "        [3.]])\n",
      "batch 2:\n",
      " tensor([[3., 2.],\n",
      "        [6., 8.]]) tensor([[2.],\n",
      "        [7.]])\n",
      "dataset length:  4\n",
      "dataset row 0:  (tensor([3., 4.]), tensor([3.]))\n",
      "dataset row 1:  (tensor([3., 2.]), tensor([2.]))\n",
      "dataset row 2:  (tensor([5., 1.]), tensor([3.]))\n",
      "dataset row 3:  (tensor([6., 8.]), tensor([7.]))\n"
     ]
    }
   ],
   "source": [
    "# custom dataset\n",
    "x = [[3,4], [3,2], [5,1], [6,8]]\n",
    "y = [[3], [2], [3], [7]]\n",
    "\n",
    "X = torch.tensor(x).float()\n",
    "Y = torch.tensor(y).float()\n",
    "\n",
    "class MyDataset(Dataset):\n",
    "    def __init__(self, x, y):\n",
    "        super().__init__()\n",
    "        self.x = torch.tensor(x).float()\n",
    "        self.y = torch.tensor(y).float()\n",
    "    \n",
    "    def __len__(self):\n",
    "        return len(self.x) # len of dataset\n",
    "    \n",
    "    def __getitem__(self, ix):\n",
    "        return self.x[ix], self.y[ix] # get specific row of data\n",
    "\n",
    "# instances\n",
    "data_set = MyDataset(X, Y)\n",
    "# dataloader\n",
    "dl = DataLoader(data_set, batch_size=2, shuffle=True)\n",
    "# print batches\n",
    "i = 0\n",
    "for x, y in dl:\n",
    "    i += 1\n",
    "    print(f'batch {i}:\\n', x, y)\n",
    "\n",
    "print('dataset length: ', data_set.__len__())\n",
    "print('dataset row 0: ', data_set.__getitem__(0))\n",
    "print('dataset row 1: ', data_set.__getitem__(1))\n",
    "print('dataset row 2: ', data_set.__getitem__(2))\n",
    "print('dataset row 3: ', data_set.__getitem__(3))\n",
    "# print('dataset row 4: ', data_set.__getitem__(4)) out of bound , we have 4 rows"
   ]
  },
  {
   "cell_type": "code",
   "execution_count": 79,
   "id": "e86f109d",
   "metadata": {},
   "outputs": [
    {
     "name": "stdout",
     "output_type": "stream",
     "text": [
      "0.3187377452850342\n"
     ]
    }
   ],
   "source": [
    "# neural net training with batches\n",
    "class MyNeuralNet3(nn.Module):\n",
    "    def __init__(self, *args, **kwargs):\n",
    "        super().__init__(*args, **kwargs)\n",
    "        self.input_to_hidden = nn.Linear(2, 8)\n",
    "        self.hidden_activation = nn.ReLU()\n",
    "        self.hidden_to_output = nn.Linear(8, 1)\n",
    "    def forward(self, x):\n",
    "        x = self.input_to_hidden(x)\n",
    "        x = self.hidden_activation(x)\n",
    "        x = self.hidden_to_output(x)\n",
    "        return x\n",
    "\n",
    "# instance\n",
    "mynet3 = MyNeuralNet3()\n",
    "loss_func3 = nn.MSELoss()\n",
    "opt = SGD(mynet3.parameters(), lr=0.01)\n",
    "loss_history3 = []\n",
    "start = time.time()\n",
    "for i in range(50):\n",
    "    for data in dl:\n",
    "        # flush previous epochs grads\n",
    "        opt.zero_grad()\n",
    "        loss_value3 = loss_func3(mynet3(x), y)\n",
    "        loss_value3.backward()\n",
    "        opt.step() # update weights\n",
    "        loss_history3.append(loss_value3.item())\n",
    "end = time.time()\n",
    "print(end - start)"
   ]
  },
  {
   "cell_type": "code",
   "execution_count": 80,
   "id": "2cfded43",
   "metadata": {},
   "outputs": [
    {
     "data": {
      "text/plain": [
       "[<matplotlib.lines.Line2D at 0x2ac614f02d0>]"
      ]
     },
     "execution_count": 80,
     "metadata": {},
     "output_type": "execute_result"
    },
    {
     "data": {
      "image/png": "[encoded data removed]",
      "text/plain": [
       "<Figure size 600x300 with 1 Axes>"
      ]
     },
     "metadata": {},
     "output_type": "display_data"
    }
   ],
   "source": [
    "plt.figure(figsize=(6, 3))\n",
    "plt.plot(loss_history3)"
   ]
  },
  {
   "cell_type": "code",
   "execution_count": 81,
   "id": "7a13b02b",
   "metadata": {},
   "outputs": [
    {
     "data": {
      "text/plain": [
       "tensor([[11.2401]], grad_fn=<AddmmBackward0>)"
      ]
     },
     "execution_count": 81,
     "metadata": {},
     "output_type": "execute_result"
    }
   ],
   "source": [
    "# predict new values\n",
    "val_x = [[10, 15]]\n",
    "val_x = torch.tensor(val_x).float()\n",
    "mynet(val_x)"
   ]
  },
  {
   "cell_type": "markdown",
   "id": "e34980c3",
   "metadata": {},
   "source": [
    "## Custom Loss Functions"
   ]
  },
  {
   "cell_type": "code",
   "execution_count": 82,
   "id": "23143043",
   "metadata": {},
   "outputs": [],
   "source": [
    "def mean_square_error(_y, y):\n",
    "    loss = (_y - y) ** 2\n",
    "    loss = loss.mean()\n",
    "    return loss"
   ]
  },
  {
   "cell_type": "code",
   "execution_count": 83,
   "id": "77222882",
   "metadata": {},
   "outputs": [
    {
     "name": "stdout",
     "output_type": "stream",
     "text": [
      "tensor(0.2796, grad_fn=<MseLossBackward0>)\n",
      "tensor(0.2796, grad_fn=<MeanBackward0>)\n"
     ]
    }
   ],
   "source": [
    "# comparison with nn.MSELoss()\n",
    "loss_func3 = nn.MSELoss()\n",
    "loss_value = loss_func3(mynet3(X), Y)\n",
    "print(loss_value)\n",
    "mse_loss = mean_square_error(mynet3(X), Y)\n",
    "print(mse_loss)"
   ]
  },
  {
   "cell_type": "markdown",
   "id": "97ec0f6c",
   "metadata": {},
   "source": [
    "## Fetching the values of intermediate layers"
   ]
  },
  {
   "cell_type": "code",
   "execution_count": 84,
   "id": "2f26caa7",
   "metadata": {},
   "outputs": [
    {
     "name": "stdout",
     "output_type": "stream",
     "text": [
      "Linear(in_features=2, out_features=8, bias=True)\n",
      "ReLU()\n",
      "Linear(in_features=8, out_features=1, bias=True)\n"
     ]
    }
   ],
   "source": [
    "# parameters\n",
    "print(mynet3.input_to_hidden)\n",
    "print(mynet3.hidden_activation)\n",
    "print(mynet3.hidden_to_output)"
   ]
  },
  {
   "cell_type": "code",
   "execution_count": 85,
   "id": "d890dd97",
   "metadata": {},
   "outputs": [
    {
     "name": "stdout",
     "output_type": "stream",
     "text": [
      "tensor([[-3.7002, -1.4185, -3.7127,  4.1104, -0.0290, -0.4394, -2.2686, -1.1597],\n",
      "        [-2.4745, -1.0469, -3.0506,  2.5593,  0.1378, -0.8619, -1.3017, -0.9621],\n",
      "        [-3.1301, -1.5571, -4.1215,  2.5151,  0.0088, -2.2197, -1.1589, -1.2039],\n",
      "        [-8.0543, -3.2056, -7.1399,  8.3099, -0.6812, -1.3141, -4.7135, -2.0657]],\n",
      "       grad_fn=<AddmmBackward0>)\n",
      "tensor([[0.0000, 0.0000, 0.0000, 4.1104, 0.0000, 0.0000, 0.0000, 0.0000],\n",
      "        [0.0000, 0.0000, 0.0000, 2.5593, 0.1378, 0.0000, 0.0000, 0.0000],\n",
      "        [0.0000, 0.0000, 0.0000, 2.5151, 0.0088, 0.0000, 0.0000, 0.0000],\n",
      "        [0.0000, 0.0000, 0.0000, 8.3099, 0.0000, 0.0000, 0.0000, 0.0000]],\n",
      "       grad_fn=<ReluBackward0>)\n",
      "tensor([[3.3828],\n",
      "        [2.0554],\n",
      "        [2.0159],\n",
      "        [6.9814]], grad_fn=<AddmmBackward0>)\n"
     ]
    }
   ],
   "source": [
    "# method 1 for values\n",
    "layer1 = mynet3.input_to_hidden(X)\n",
    "layer2 = mynet3.hidden_activation(layer1)\n",
    "layer3 = mynet3.hidden_to_output(layer2)\n",
    "print(layer1)\n",
    "print(layer2)\n",
    "print(layer3)"
   ]
  },
  {
   "cell_type": "code",
   "execution_count": 86,
   "id": "dd73d1bf",
   "metadata": {},
   "outputs": [
    {
     "name": "stdout",
     "output_type": "stream",
     "text": [
      "tensor([3.3828], grad_fn=<SelectBackward0>)\n",
      "tensor([2.0554], grad_fn=<SelectBackward0>)\n",
      "tensor([2.0159], grad_fn=<SelectBackward0>)\n",
      "tensor([6.9814], grad_fn=<SelectBackward0>)\n"
     ]
    }
   ],
   "source": [
    "# method 2 for values\n",
    "print(mynet3(X)[0])\n",
    "print(mynet3(X)[1])\n",
    "print(mynet3(X)[2])\n",
    "print(mynet3(X)[3])"
   ]
  },
  {
   "cell_type": "markdown",
   "id": "5c81dea0",
   "metadata": {},
   "source": [
    "## Sequential Method"
   ]
  },
  {
   "cell_type": "code",
   "execution_count": 98,
   "id": "be7fc515",
   "metadata": {},
   "outputs": [
    {
     "name": "stdout",
     "output_type": "stream",
     "text": [
      "----------------------------------------------------------------\n",
      "        Layer (type)               Output Shape         Param #\n",
      "================================================================\n",
      "            Linear-1                 [-1, 1, 8]              24\n",
      "              ReLU-2                 [-1, 1, 8]               0\n",
      "            Linear-3                 [-1, 1, 1]               9\n",
      "================================================================\n",
      "Total params: 33\n",
      "Trainable params: 33\n",
      "Non-trainable params: 0\n",
      "----------------------------------------------------------------\n",
      "Input size (MB): 0.00\n",
      "Forward/backward pass size (MB): 0.00\n",
      "Params size (MB): 0.00\n",
      "Estimated Total Size (MB): 0.00\n",
      "----------------------------------------------------------------\n"
     ]
    }
   ],
   "source": [
    "# load dataset\n",
    "class MyDataset4(Dataset):\n",
    "    def __init__(self, x, y):\n",
    "        super().__init__()\n",
    "        self.x = torch.tensor(x).float()\n",
    "        self.y = torch.tensor(y).float()\n",
    "    def __getitem__(self, ix):\n",
    "        return self.x[ix], self.y[ix]\n",
    "    def __len__(self):\n",
    "        return len(self.x)\n",
    "x = [[3,4], [3,2], [5,1], [6,8]]\n",
    "y = [[3], [2], [3], [7]]\n",
    "ds = MyDataset4(x, y)\n",
    "dl = DataLoader(ds, batch_size=2, shuffle=True)\n",
    "\n",
    "# build neural network\n",
    "model = nn.Sequential(\n",
    "    nn.Linear(in_features=2, out_features=8),\n",
    "    nn.ReLU(),\n",
    "    nn.Linear(in_features=8, out_features=1)\n",
    ")\n",
    "\n",
    "# print model summary\n",
    "summary(model=model, input_size=(1,2))\n",
    "\n",
    "# output shape -> [-1, 1, 8] \n",
    "# -1 -> batch size\n",
    "# 1 -> number of samples\n",
    "# 8 -> number of features\n",
    "\n",
    "# params -> weights + biases = (in_features * out_features) + bias\n",
    "# (2 * 8) + 8 = 24\n",
    "# relu : no params\n",
    "# (8 * 1) + 1 = 9"
   ]
  },
  {
   "cell_type": "code",
   "execution_count": 116,
   "id": "5a52fb9c",
   "metadata": {},
   "outputs": [
    {
     "name": "stdout",
     "output_type": "stream",
     "text": [
      "\n",
      "--training completed in: 0.45111680030822754--\n"
     ]
    }
   ],
   "source": [
    "# loss function\n",
    "loss_func = nn.MSELoss()\n",
    "# optimizer\n",
    "opt = SGD(model.parameters(), lr=0.01)\n",
    "# keep loss history\n",
    "loss_history = []\n",
    "# train model\n",
    "start = time.time()\n",
    "for i in range(100):\n",
    "    for ix, iy in dl:\n",
    "        # flush previous grads\n",
    "        opt.zero_grad()\n",
    "        # calculate loss\n",
    "        loss_value = loss_func(model(ix), iy)\n",
    "        # backprop\n",
    "        loss_value.backward()\n",
    "        # update weights\n",
    "        opt.step()\n",
    "        # append loss to loss history\n",
    "        loss_history.append(loss_value.item())\n",
    "end = time.time()\n",
    "print(f'\\n--training completed in: {end - start}--')"
   ]
  },
  {
   "cell_type": "code",
   "execution_count": 117,
   "id": "6a0b4177",
   "metadata": {},
   "outputs": [
    {
     "data": {
      "text/plain": [
       "Text(0, 0.5, 'loss')"
      ]
     },
     "execution_count": 117,
     "metadata": {},
     "output_type": "execute_result"
    },
    {
     "data": {
      "image/png": "[encoded data removed]",
      "text/plain": [
       "<Figure size 640x480 with 1 Axes>"
      ]
     },
     "metadata": {},
     "output_type": "display_data"
    }
   ],
   "source": [
    "plt.plot(loss_history)\n",
    "plt.xlabel('epochs')\n",
    "plt.ylabel('loss')"
   ]
  },
  {
   "cell_type": "code",
   "execution_count": 118,
   "id": "4f9bdce8",
   "metadata": {},
   "outputs": [
    {
     "data": {
      "text/plain": [
       "tensor([[ 8.6963],\n",
       "        [10.9275],\n",
       "        [ 1.3158]], grad_fn=<AddmmBackward0>)"
      ]
     },
     "execution_count": 118,
     "metadata": {},
     "output_type": "execute_result"
    }
   ],
   "source": [
    "# make predictions\n",
    "val = [[8,9],[10,11],[1.5,2.5]]\n",
    "model(torch.tensor(val).float())"
   ]
  },
  {
   "cell_type": "markdown",
   "id": "409142b1",
   "metadata": {},
   "source": [
    "## Save and Load Model"
   ]
  },
  {
   "cell_type": "code",
   "execution_count": 122,
   "id": "7d8a45b6",
   "metadata": {},
   "outputs": [
    {
     "data": {
      "text/plain": [
       "OrderedDict([('0.weight',\n",
       "              tensor([[-0.5155,  0.2488],\n",
       "                      [-0.5024, -0.0443],\n",
       "                      [ 0.5218, -0.6542],\n",
       "                      [ 0.2039,  0.6768],\n",
       "                      [-0.0795, -0.0080],\n",
       "                      [-0.4107, -0.2310],\n",
       "                      [ 0.7208,  0.1007],\n",
       "                      [-0.2697, -0.3755]])),\n",
       "             ('0.bias',\n",
       "              tensor([-0.6387, -0.6151, -0.0599, -0.3085,  0.5408, -0.5517, -0.2803,  0.0215])),\n",
       "             ('2.weight',\n",
       "              tensor([[-0.0828, -0.2070,  0.2175,  0.7122, -0.3211,  0.1226,  0.5945,  0.1049]])),\n",
       "             ('2.bias', tensor([-0.3842]))])"
      ]
     },
     "execution_count": 122,
     "metadata": {},
     "output_type": "execute_result"
    }
   ],
   "source": [
    "# get current state of the trained model\n",
    "model.state_dict()\n",
    "# returns each layer's weights and bias, layer 0 and 2 in this context as layer 1 is relu with no weights"
   ]
  },
  {
   "cell_type": "code",
   "execution_count": 123,
   "id": "96318cab",
   "metadata": {},
   "outputs": [],
   "source": [
    "# save the model\n",
    "torch.save(model.state_dict(), 'mymodel.pth')"
   ]
  },
  {
   "cell_type": "markdown",
   "id": "d9b11c30",
   "metadata": {},
   "source": [
    "## Load Model"
   ]
  },
  {
   "cell_type": "code",
   "execution_count": 125,
   "id": "a395230b",
   "metadata": {},
   "outputs": [],
   "source": [
    "# requires first initializing model with random weights\n",
    "model_new = nn.Sequential(\n",
    "  nn.Linear(2, 8), \n",
    "  nn.ReLU(),\n",
    "  nn.Linear(8, 1)\n",
    " )"
   ]
  },
  {
   "cell_type": "code",
   "execution_count": 127,
   "id": "5b6d79f8",
   "metadata": {},
   "outputs": [
    {
     "name": "stdout",
     "output_type": "stream",
     "text": [
      "OrderedDict({'0.weight': tensor([[-0.5155,  0.2488],\n",
      "        [-0.5024, -0.0443],\n",
      "        [ 0.5218, -0.6542],\n",
      "        [ 0.2039,  0.6768],\n",
      "        [-0.0795, -0.0080],\n",
      "        [-0.4107, -0.2310],\n",
      "        [ 0.7208,  0.1007],\n",
      "        [-0.2697, -0.3755]]), '0.bias': tensor([-0.6387, -0.6151, -0.0599, -0.3085,  0.5408, -0.5517, -0.2803,  0.0215]), '2.weight': tensor([[-0.0828, -0.2070,  0.2175,  0.7122, -0.3211,  0.1226,  0.5945,  0.1049]]), '2.bias': tensor([-0.3842])})\n"
     ]
    }
   ],
   "source": [
    "# load the model\n",
    "state_dict = torch.load('mymodel.pth')\n",
    "print(state_dict)"
   ]
  },
  {
   "cell_type": "code",
   "execution_count": 129,
   "id": "780f6891",
   "metadata": {},
   "outputs": [
    {
     "data": {
      "text/plain": [
       "tensor([[ 8.6963],\n",
       "        [10.9275],\n",
       "        [ 1.3158]], grad_fn=<AddmmBackward0>)"
      ]
     },
     "execution_count": 129,
     "metadata": {},
     "output_type": "execute_result"
    }
   ],
   "source": [
    "# add these state to randomly initialized model\n",
    "model.load_state_dict(state_dict)\n",
    "# make predictions\n",
    "model(torch.tensor(val).float())"
   ]
  }
 ],
 "metadata": {
  "kernelspec": {
   "display_name": ".cvpytorch",
   "language": "python",
   "name": "python3"
  },
  "language_info": {
   "codemirror_mode": {
    "name": "ipython",
    "version": 3
   },
   "file_extension": ".py",
   "mimetype": "text/x-python",
   "name": "python",
   "nbconvert_exporter": "python",
   "pygments_lexer": "ipython3",
   "version": "3.13.7"
  }
 },
 "nbformat": 4,
 "nbformat_minor": 5
}
