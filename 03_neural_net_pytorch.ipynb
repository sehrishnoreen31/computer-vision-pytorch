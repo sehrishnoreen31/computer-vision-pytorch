{
 "cells": [
  {
   "cell_type": "code",
   "execution_count": 18,
   "id": "db259b5c",
   "metadata": {},
   "outputs": [],
   "source": [
    "import torch \n",
    "import torch.nn as nn\n",
    "from torch.optim import SGD\n",
    "import matplotlib.pyplot as plt"
   ]
  },
  {
   "cell_type": "code",
   "execution_count": 8,
   "id": "163d6d3c",
   "metadata": {},
   "outputs": [],
   "source": [
    "x = [[3,4], [4,2], [5,2], [6,8]]\n",
    "y = [[3], [2], [3], [7]]\n",
    "\n",
    "X = torch.tensor(x).float()\n",
    "Y = torch.tensor(y).float()"
   ]
  },
  {
   "cell_type": "code",
   "execution_count": 9,
   "id": "fae4b4eb",
   "metadata": {},
   "outputs": [
    {
     "name": "stdout",
     "output_type": "stream",
     "text": [
      "parameters:\n",
      " [Parameter containing:\n",
      "tensor([[-0.7011, -0.5578],\n",
      "        [-0.3029, -0.6690],\n",
      "        [-0.0401, -0.6221],\n",
      "        [ 0.3845,  0.3446],\n",
      "        [ 0.1335,  0.5485],\n",
      "        [-0.0693,  0.4235],\n",
      "        [-0.4952, -0.1393]], requires_grad=True), Parameter containing:\n",
      "tensor([-0.6305, -0.0574, -0.4588,  0.6352,  0.4912,  0.5301,  0.2097],\n",
      "       requires_grad=True), Parameter containing:\n",
      "tensor([[-0.2156,  0.3396, -0.3688, -0.2412, -0.2361, -0.1567,  0.0754]],\n",
      "       requires_grad=True), Parameter containing:\n",
      "tensor([-0.2863], requires_grad=True)]\n"
     ]
    }
   ],
   "source": [
    "class MyNet(nn.Module):\n",
    "    def __init__(self):\n",
    "        super().__init__() # inherit nn module\n",
    "        # layers\n",
    "        self.input_to_hidden = nn.Linear(in_features=2, out_features=7, bias=True) # two inputs, 7 outputs\n",
    "        self.hidden_activation = nn.ReLU()\n",
    "        self.hidden_to_output = nn.Linear(in_features=7, out_features=1, bias=True) # 7 inputs, 1 output\n",
    "\n",
    "    # forward pass\n",
    "    def forward(self, x):\n",
    "        x = self.input_to_hidden(x)\n",
    "        x = self.hidden_activation(x)\n",
    "        x = self.hidden_to_output(x)\n",
    "        return x\n",
    "\n",
    "# reproduce values\n",
    "torch.manual_seed(3)\n",
    "mynet = MyNet()\n",
    "# print('weights:\\n', mynet.input_to_hidden.weight) # weights only\n",
    "print('parameters:\\n', list(mynet.parameters())) # weights and biases"
   ]
  },
  {
   "cell_type": "code",
   "execution_count": 10,
   "id": "b65b5c14",
   "metadata": {},
   "outputs": [],
   "source": [
    "# # define neural net using nn.Parameter\n",
    "# class MyNet2(nn.Module):\n",
    "#     def __init__(self, *args, **kwargs):\n",
    "#         super().__init__(*args, **kwargs)\n",
    "#         self.input_to_hidden = nn.Parameter(torch.rand(2, 7))\n",
    "#         self.hidden_activation = nn.ReLU()\n",
    "#         self.hidden_to_output = nn.Parameter(torch.rand(8, 1))\n",
    "\n",
    "#     # forward pass\n",
    "#     def forward(self, x):\n",
    "#         x = x @ self.input_to_hidden\n",
    "#         x = self.hidden_activation(x)\n",
    "#         x = x @ self.hidden_to_output\n",
    "#         return x \n",
    "\n",
    "# # reproduce values\n",
    "# torch.manual_seed(3)\n",
    "# mynet = MyNet2()\n",
    "# # print('weights:\\n', mynet.input_to_hidden.weight) # weights only\n",
    "# print('\\nparameters:\\n', list(mynet.parameters())) # weights and biases"
   ]
  },
  {
   "cell_type": "code",
   "execution_count": 11,
   "id": "588bb020",
   "metadata": {},
   "outputs": [
    {
     "name": "stdout",
     "output_type": "stream",
     "text": [
      "tensor(43.3236, grad_fn=<MseLossBackward0>)\n"
     ]
    }
   ],
   "source": [
    "loss_func = nn.MSELoss() # loss function, mean squared error\n",
    "_Y = mynet(X) # predict \n",
    "loss_value = loss_func(_Y, Y) # calculate loss\n",
    "print(loss_value) "
   ]
  },
  {
   "cell_type": "code",
   "execution_count": 14,
   "id": "31d585ba",
   "metadata": {},
   "outputs": [],
   "source": [
    "loss_history = []\n",
    "# optimizer \n",
    "opt = SGD(mynet.parameters(), lr=0.001)\n",
    "for i in range(50):\n",
    "    opt.zero_grad() # flush previous epochs grads\n",
    "    loss_value = loss_func(mynet(X), Y) # calculate loss\n",
    "    # back prop\n",
    "    loss_value.backward()\n",
    "    opt.step() # update weights\n",
    "    # append current loss to loss history\n",
    "    loss_history.append(loss_value.item())"
   ]
  },
  {
   "cell_type": "code",
   "execution_count": 28,
   "id": "1cee246f",
   "metadata": {},
   "outputs": [
    {
     "name": "stdout",
     "output_type": "stream",
     "text": [
      "initial epoch loss:  22.452072143554688\n",
      "final epoch loss:  0.23983259499073029\n"
     ]
    }
   ],
   "source": [
    "print('initial epoch loss: ', loss_history[0])\n",
    "print('final epoch loss: ', loss_history[-1])"
   ]
  },
  {
   "cell_type": "code",
   "execution_count": 29,
   "id": "e39bfbff",
   "metadata": {},
   "outputs": [
    {
     "data": {
      "text/plain": [
       "Text(0.5, 1.0, 'Loss over increasing epochs')"
      ]
     },
     "execution_count": 29,
     "metadata": {},
     "output_type": "execute_result"
    },
    {
     "data": {
      "image/png": "[encoded data removed]",
      "text/plain": [
       "<Figure size 700x300 with 1 Axes>"
      ]
     },
     "metadata": {},
     "output_type": "display_data"
    }
   ],
   "source": [
    "# plot loss history\n",
    "plt.figure(figsize=(7, 3))\n",
    "plt.plot(loss_history, color='green')\n",
    "plt.xlabel('loss')\n",
    "plt.ylabel('epochs')\n",
    "plt.title('Loss over increasing epochs')"
   ]
  }
 ],
 "metadata": {
  "kernelspec": {
   "display_name": ".cvpytorch",
   "language": "python",
   "name": "python3"
  },
  "language_info": {
   "codemirror_mode": {
    "name": "ipython",
    "version": 3
   },
   "file_extension": ".py",
   "mimetype": "text/x-python",
   "name": "python",
   "nbconvert_exporter": "python",
   "pygments_lexer": "ipython3",
   "version": "3.13.7"
  }
 },
 "nbformat": 4,
 "nbformat_minor": 5
}
