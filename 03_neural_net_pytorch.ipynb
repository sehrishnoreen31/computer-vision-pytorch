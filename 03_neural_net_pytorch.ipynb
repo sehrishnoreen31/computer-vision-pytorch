{
 "cells": [
  {
   "cell_type": "code",
   "execution_count": 4,
   "id": "db259b5c",
   "metadata": {},
   "outputs": [],
   "source": [
    "import torch \n",
    "import time\n",
    "import torch.nn as nn\n",
    "from torch.optim import SGD\n",
    "import matplotlib.pyplot as plt\n",
    "from torch.utils.data import Dataset, DataLoader"
   ]
  },
  {
   "cell_type": "code",
   "execution_count": 5,
   "id": "299479c6",
   "metadata": {},
   "outputs": [],
   "source": [
    "import warnings\n",
    "warnings.filterwarnings('ignore', category=UserWarning)"
   ]
  },
  {
   "cell_type": "code",
   "execution_count": 6,
   "id": "163d6d3c",
   "metadata": {},
   "outputs": [],
   "source": [
    "x = [[3,4], [4,2], [5,2], [6,8]]\n",
    "y = [[3], [2], [3], [7]]\n",
    "\n",
    "X = torch.tensor(x).float()\n",
    "Y = torch.tensor(y).float()"
   ]
  },
  {
   "cell_type": "code",
   "execution_count": 7,
   "id": "fae4b4eb",
   "metadata": {},
   "outputs": [
    {
     "name": "stdout",
     "output_type": "stream",
     "text": [
      "parameters:\n",
      " [Parameter containing:\n",
      "tensor([[-0.7011, -0.5578],\n",
      "        [-0.3029, -0.6690],\n",
      "        [-0.0401, -0.6221],\n",
      "        [ 0.3845,  0.3446],\n",
      "        [ 0.1335,  0.5485],\n",
      "        [-0.0693,  0.4235],\n",
      "        [-0.4952, -0.1393]], requires_grad=True), Parameter containing:\n",
      "tensor([-0.6305, -0.0574, -0.4588,  0.6352,  0.4912,  0.5301,  0.2097],\n",
      "       requires_grad=True), Parameter containing:\n",
      "tensor([[-0.2156,  0.3396, -0.3688, -0.2412, -0.2361, -0.1567,  0.0754]],\n",
      "       requires_grad=True), Parameter containing:\n",
      "tensor([-0.2863], requires_grad=True)]\n"
     ]
    }
   ],
   "source": [
    "class MyNet(nn.Module):\n",
    "    def __init__(self):\n",
    "        super().__init__() # inherit nn module\n",
    "        # layers\n",
    "        self.input_to_hidden = nn.Linear(in_features=2, out_features=7, bias=True) # two inputs, 7 outputs\n",
    "        self.hidden_activation = nn.ReLU()\n",
    "        self.hidden_to_output = nn.Linear(in_features=7, out_features=1, bias=True) # 7 inputs, 1 output\n",
    "\n",
    "    # forward pass\n",
    "    def forward(self, x):\n",
    "        x = self.input_to_hidden(x)\n",
    "        x = self.hidden_activation(x)\n",
    "        x = self.hidden_to_output(x)\n",
    "        return x\n",
    "\n",
    "# reproduce values\n",
    "torch.manual_seed(3)\n",
    "mynet = MyNet()\n",
    "# print('weights:\\n', mynet.input_to_hidden.weight) # weights only\n",
    "print('parameters:\\n', list(mynet.parameters())) # weights and biases"
   ]
  },
  {
   "cell_type": "code",
   "execution_count": 8,
   "id": "b65b5c14",
   "metadata": {},
   "outputs": [],
   "source": [
    "# # define neural net using nn.Parameter\n",
    "# class MyNet2(nn.Module):\n",
    "#     def __init__(self, *args, **kwargs):\n",
    "#         super().__init__(*args, **kwargs)\n",
    "#         self.input_to_hidden = nn.Parameter(torch.rand(2, 7))\n",
    "#         self.hidden_activation = nn.ReLU()\n",
    "#         self.hidden_to_output = nn.Parameter(torch.rand(8, 1))\n",
    "\n",
    "#     # forward pass\n",
    "#     def forward(self, x):\n",
    "#         x = x @ self.input_to_hidden\n",
    "#         x = self.hidden_activation(x)\n",
    "#         x = x @ self.hidden_to_output\n",
    "#         return x \n",
    "\n",
    "# # reproduce values\n",
    "# torch.manual_seed(3)\n",
    "# mynet = MyNet2()\n",
    "# # print('weights:\\n', mynet.input_to_hidden.weight) # weights only\n",
    "# print('\\nparameters:\\n', list(mynet.parameters())) # weights and biases"
   ]
  },
  {
   "cell_type": "code",
   "execution_count": 9,
   "id": "588bb020",
   "metadata": {},
   "outputs": [
    {
     "name": "stdout",
     "output_type": "stream",
     "text": [
      "tensor(43.3236, grad_fn=<MseLossBackward0>)\n"
     ]
    }
   ],
   "source": [
    "loss_func = nn.MSELoss() # loss function, mean squared error\n",
    "_Y = mynet(X) # predict \n",
    "loss_value = loss_func(_Y, Y) # calculate loss\n",
    "print(loss_value) "
   ]
  },
  {
   "cell_type": "code",
   "execution_count": 10,
   "id": "31d585ba",
   "metadata": {},
   "outputs": [],
   "source": [
    "loss_history = []\n",
    "# optimizer \n",
    "opt = SGD(mynet.parameters(), lr=0.001)\n",
    "for i in range(50):\n",
    "    opt.zero_grad() # flush previous epochs grads\n",
    "    loss_value = loss_func(mynet(X), Y) # calculate loss\n",
    "    # back prop\n",
    "    loss_value.backward()\n",
    "    opt.step() # update weights\n",
    "    # append current loss to loss history\n",
    "    loss_history.append(loss_value.item())"
   ]
  },
  {
   "cell_type": "code",
   "execution_count": 11,
   "id": "1cee246f",
   "metadata": {},
   "outputs": [
    {
     "name": "stdout",
     "output_type": "stream",
     "text": [
      "initial epoch loss:  43.32361602783203\n",
      "final epoch loss:  0.24372059106826782\n"
     ]
    }
   ],
   "source": [
    "print('initial epoch loss: ', loss_history[0])\n",
    "print('final epoch loss: ', loss_history[-1])"
   ]
  },
  {
   "cell_type": "code",
   "execution_count": 12,
   "id": "e39bfbff",
   "metadata": {},
   "outputs": [
    {
     "data": {
      "text/plain": [
       "Text(0.5, 1.0, 'Loss over increasing epochs')"
      ]
     },
     "execution_count": 12,
     "metadata": {},
     "output_type": "execute_result"
    },
    {
     "data": {
      "image/png": "[encoded data removed]",
      "text/plain": [
       "<Figure size 700x300 with 1 Axes>"
      ]
     },
     "metadata": {},
     "output_type": "display_data"
    }
   ],
   "source": [
    "# plot loss history\n",
    "plt.figure(figsize=(7, 3))\n",
    "plt.plot(loss_history, color='green')\n",
    "plt.xlabel('loss')\n",
    "plt.ylabel('epochs')\n",
    "plt.title('Loss over increasing epochs')"
   ]
  },
  {
   "cell_type": "markdown",
   "id": "d127b7b8",
   "metadata": {},
   "source": [
    "## Dataset, Dataset Loader, Bactch size"
   ]
  },
  {
   "cell_type": "code",
   "execution_count": 33,
   "id": "18566770",
   "metadata": {},
   "outputs": [
    {
     "name": "stdout",
     "output_type": "stream",
     "text": [
      "batch 1:\n",
      " tensor([[5., 1.],\n",
      "        [3., 2.]]) tensor([[3.],\n",
      "        [2.]])\n",
      "batch 2:\n",
      " tensor([[6., 8.],\n",
      "        [3., 4.]]) tensor([[7.],\n",
      "        [3.]])\n",
      "dataset length:  4\n",
      "dataset row 0:  (tensor([3., 4.]), tensor([3.]))\n",
      "dataset row 1:  (tensor([3., 2.]), tensor([2.]))\n",
      "dataset row 2:  (tensor([5., 1.]), tensor([3.]))\n",
      "dataset row 3:  (tensor([6., 8.]), tensor([7.]))\n"
     ]
    }
   ],
   "source": [
    "# custom dataset\n",
    "x = [[3,4], [3,2], [5,1], [6,8]]\n",
    "y = [[3], [2], [3], [7]]\n",
    "\n",
    "X = torch.tensor(x).float()\n",
    "Y = torch.tensor(y).float()\n",
    "\n",
    "class MyDataset(Dataset):\n",
    "    def __init__(self, x, y):\n",
    "        super().__init__()\n",
    "        self.x = torch.tensor(x).float()\n",
    "        self.y = torch.tensor(y).float()\n",
    "    \n",
    "    def __len__(self):\n",
    "        return len(self.x) # len of dataset\n",
    "    \n",
    "    def __getitem__(self, ix):\n",
    "        return self.x[ix], self.y[ix] # get specific row of data\n",
    "\n",
    "# instances\n",
    "data_set = MyDataset(X, Y)\n",
    "# dataloader\n",
    "dl = DataLoader(data_set, batch_size=2, shuffle=True)\n",
    "# print batches\n",
    "i = 0\n",
    "for x, y in dl:\n",
    "    i += 1\n",
    "    print(f'batch {i}:\\n', x, y)\n",
    "\n",
    "print('dataset length: ', data_set.__len__())\n",
    "print('dataset row 0: ', data_set.__getitem__(0))\n",
    "print('dataset row 1: ', data_set.__getitem__(1))\n",
    "print('dataset row 2: ', data_set.__getitem__(2))\n",
    "print('dataset row 3: ', data_set.__getitem__(3))\n",
    "# print('dataset row 4: ', data_set.__getitem__(4)) out of bound , we have 4 rows"
   ]
  },
  {
   "cell_type": "code",
   "execution_count": 34,
   "id": "e86f109d",
   "metadata": {},
   "outputs": [
    {
     "name": "stdout",
     "output_type": "stream",
     "text": [
      "0.5946784019470215\n"
     ]
    }
   ],
   "source": [
    "# neural net training with batches\n",
    "class MyNeuralNet3(nn.Module):\n",
    "    def __init__(self, *args, **kwargs):\n",
    "        super().__init__(*args, **kwargs)\n",
    "        self.input_to_hidden = nn.Linear(2, 8)\n",
    "        self.hidden_activation = nn.ReLU()\n",
    "        self.hidden_to_output = nn.Linear(8, 1)\n",
    "    def forward(self, x):\n",
    "        x = self.input_to_hidden(x)\n",
    "        x = self.hidden_activation(x)\n",
    "        x = self.hidden_to_output(x)\n",
    "        return x\n",
    "\n",
    "# instance\n",
    "mynet3 = MyNeuralNet3()\n",
    "loss_func3 = nn.MSELoss()\n",
    "opt = SGD(mynet3.parameters(), lr=0.01)\n",
    "loss_history3 = []\n",
    "start = time.time()\n",
    "for i in range(50):\n",
    "    for data in dl:\n",
    "        # flush previous epochs grads\n",
    "        opt.zero_grad()\n",
    "        loss_value3 = loss_func3(mynet3(x), y)\n",
    "        loss_value3.backward()\n",
    "        opt.step() # update weights\n",
    "        loss_history3.append(loss_value3.item())\n",
    "end = time.time()\n",
    "print(end - start)"
   ]
  },
  {
   "cell_type": "code",
   "execution_count": 35,
   "id": "2cfded43",
   "metadata": {},
   "outputs": [
    {
     "data": {
      "text/plain": [
       "[<matplotlib.lines.Line2D at 0x19c5ec6e350>]"
      ]
     },
     "execution_count": 35,
     "metadata": {},
     "output_type": "execute_result"
    },
    {
     "data": {
      "image/png": "[encoded data removed]",
      "text/plain": [
       "<Figure size 600x300 with 1 Axes>"
      ]
     },
     "metadata": {},
     "output_type": "display_data"
    }
   ],
   "source": [
    "plt.figure(figsize=(6, 3))\n",
    "plt.plot(loss_history3)"
   ]
  },
  {
   "cell_type": "code",
   "execution_count": 37,
   "id": "7a13b02b",
   "metadata": {},
   "outputs": [
    {
     "data": {
      "text/plain": [
       "tensor([[11.2401]], grad_fn=<AddmmBackward0>)"
      ]
     },
     "execution_count": 37,
     "metadata": {},
     "output_type": "execute_result"
    }
   ],
   "source": [
    "# predict new values\n",
    "val_x = [[10, 15]]\n",
    "val_x = torch.tensor(val_x).float()\n",
    "mynet(val_x)"
   ]
  }
 ],
 "metadata": {
  "kernelspec": {
   "display_name": ".cvpytorch",
   "language": "python",
   "name": "python3"
  },
  "language_info": {
   "codemirror_mode": {
    "name": "ipython",
    "version": 3
   },
   "file_extension": ".py",
   "mimetype": "text/x-python",
   "name": "python",
   "nbconvert_exporter": "python",
   "pygments_lexer": "ipython3",
   "version": "3.13.7"
  }
 },
 "nbformat": 4,
 "nbformat_minor": 5
}
