{
 "cells": [
  {
   "cell_type": "code",
   "execution_count": 1,
   "id": "cba04148",
   "metadata": {
    "_cell_guid": "b1076dfc-b9ad-4769-8c92-a6c4dae69d19",
    "_uuid": "8f2839f25d086af736a60e9eeb907d3b93b6e0e5",
    "execution": {
     "iopub.execute_input": "2025-10-03T05:02:33.257475Z",
     "iopub.status.busy": "2025-10-03T05:02:33.257282Z",
     "iopub.status.idle": "2025-10-03T05:02:45.060268Z",
     "shell.execute_reply": "2025-10-03T05:02:45.059322Z"
    },
    "papermill": {
     "duration": 11.808451,
     "end_time": "2025-10-03T05:02:45.062109",
     "exception": false,
     "start_time": "2025-10-03T05:02:33.253658",
     "status": "completed"
    },
    "tags": []
   },
   "outputs": [
    {
     "name": "stdout",
     "output_type": "stream",
     "text": [
      "Requirement already satisfied: torchsummary in /usr/local/lib/python3.11/dist-packages (1.5.1)\r\n"
     ]
    }
   ],
   "source": [
    "import torch\n",
    "import torch.nn as nn\n",
    "from torchvision import datasets\n",
    "from torch.utils.data import Dataset, DataLoader\n",
    "from torch.optim import Adam\n",
    "!pip install torchsummary \n",
    "from torchsummary import summary\n",
    "import numpy as np\n",
    "import matplotlib.pyplot as plt\n",
    "%matplotlib inline"
   ]
  },
  {
   "cell_type": "code",
   "execution_count": 2,
   "id": "7bb4a824",
   "metadata": {
    "execution": {
     "iopub.execute_input": "2025-10-03T05:02:45.068553Z",
     "iopub.status.busy": "2025-10-03T05:02:45.068076Z",
     "iopub.status.idle": "2025-10-03T05:02:45.149540Z",
     "shell.execute_reply": "2025-10-03T05:02:45.148935Z"
    },
    "papermill": {
     "duration": 0.085686,
     "end_time": "2025-10-03T05:02:45.150597",
     "exception": false,
     "start_time": "2025-10-03T05:02:45.064911",
     "status": "completed"
    },
    "tags": []
   },
   "outputs": [
    {
     "data": {
      "text/plain": [
       "'cuda'"
      ]
     },
     "execution_count": 2,
     "metadata": {},
     "output_type": "execute_result"
    }
   ],
   "source": [
    "device = 'cuda' if torch.cuda.is_available() else 'cpu'\n",
    "device"
   ]
  },
  {
   "cell_type": "code",
   "execution_count": 3,
   "id": "38cbcb7e",
   "metadata": {
    "execution": {
     "iopub.execute_input": "2025-10-03T05:02:45.156705Z",
     "iopub.status.busy": "2025-10-03T05:02:45.156479Z",
     "iopub.status.idle": "2025-10-03T05:02:55.594460Z",
     "shell.execute_reply": "2025-10-03T05:02:55.593575Z"
    },
    "papermill": {
     "duration": 10.442348,
     "end_time": "2025-10-03T05:02:55.595620",
     "exception": false,
     "start_time": "2025-10-03T05:02:45.153272",
     "status": "completed"
    },
    "tags": []
   },
   "outputs": [
    {
     "name": "stderr",
     "output_type": "stream",
     "text": [
      "100%|██████████| 26.4M/26.4M [00:01<00:00, 15.2MB/s]\n",
      "100%|██████████| 29.5k/29.5k [00:00<00:00, 273kB/s]\n",
      "100%|██████████| 4.42M/4.42M [00:00<00:00, 5.04MB/s]\n",
      "100%|██████████| 5.15k/5.15k [00:00<00:00, 13.3MB/s]\n",
      "100%|██████████| 26.4M/26.4M [00:01<00:00, 17.3MB/s]\n",
      "100%|██████████| 29.5k/29.5k [00:00<00:00, 268kB/s]\n",
      "100%|██████████| 4.42M/4.42M [00:00<00:00, 5.05MB/s]\n",
      "100%|██████████| 5.15k/5.15k [00:00<00:00, 10.1MB/s]\n"
     ]
    }
   ],
   "source": [
    "data_destination = '/kaggle/working/'\n",
    "fmnist_data =  datasets.FashionMNIST(data_destination, download=True, train=True)\n",
    "data_destination_test = '/kaggle/working/test'\n",
    "fmnist_val =  datasets.FashionMNIST(data_destination_test, download=True, train=False)"
   ]
  },
  {
   "cell_type": "code",
   "execution_count": 4,
   "id": "e55c7423",
   "metadata": {
    "execution": {
     "iopub.execute_input": "2025-10-03T05:02:55.608945Z",
     "iopub.status.busy": "2025-10-03T05:02:55.608693Z",
     "iopub.status.idle": "2025-10-03T05:02:55.612999Z",
     "shell.execute_reply": "2025-10-03T05:02:55.612451Z"
    },
    "papermill": {
     "duration": 0.011374,
     "end_time": "2025-10-03T05:02:55.614037",
     "exception": false,
     "start_time": "2025-10-03T05:02:55.602663",
     "status": "completed"
    },
    "tags": []
   },
   "outputs": [],
   "source": [
    "class FMNISTDataset(Dataset):\n",
    "    def __init__(self, x, y):\n",
    "        x = x.float()/255 # scalling\n",
    "        x = x.view(-1, 1, 28, 28) # reshaping images (batch_size, channels, height, width)\n",
    "        self.x, self.y = x, y\n",
    "    def __getitem__(self, ix):\n",
    "        return self.x[ix], self.y[ix]\n",
    "    def __len__(self):\n",
    "        return len(self.x)"
   ]
  },
  {
   "cell_type": "code",
   "execution_count": 5,
   "id": "50ecc762",
   "metadata": {
    "execution": {
     "iopub.execute_input": "2025-10-03T05:02:55.631512Z",
     "iopub.status.busy": "2025-10-03T05:02:55.631299Z",
     "iopub.status.idle": "2025-10-03T05:02:55.637065Z",
     "shell.execute_reply": "2025-10-03T05:02:55.636060Z"
    },
    "papermill": {
     "duration": 0.017152,
     "end_time": "2025-10-03T05:02:55.638475",
     "exception": false,
     "start_time": "2025-10-03T05:02:55.621323",
     "status": "completed"
    },
    "tags": []
   },
   "outputs": [],
   "source": [
    "def get_model():\n",
    "    model = nn.Sequential(\n",
    "        nn.Conv2d(in_channels=1, out_channels=64, kernel_size=3),\n",
    "        nn.MaxPool2d(kernel_size=2),\n",
    "        nn.ReLU(),\n",
    "        nn.Conv2d(in_channels=64, out_channels=128, kernel_size=3),\n",
    "        nn.MaxPool2d(kernel_size=2),\n",
    "        nn.ReLU(),\n",
    "        nn.Flatten(),\n",
    "        nn.Linear(in_features=3200, out_features=256),\n",
    "        nn.ReLU(),\n",
    "        nn.Linear(in_features=256, out_features=10)\n",
    "    ).to(device)\n",
    "    loss_func = nn.CrossEntropyLoss()\n",
    "    optimizer = Adam(model.parameters(), lr=0.001)\n",
    "    return model, loss_func, optimizer"
   ]
  },
  {
   "cell_type": "code",
   "execution_count": 6,
   "id": "e0b62b30",
   "metadata": {
    "execution": {
     "iopub.execute_input": "2025-10-03T05:02:55.657045Z",
     "iopub.status.busy": "2025-10-03T05:02:55.656706Z",
     "iopub.status.idle": "2025-10-03T05:02:55.662135Z",
     "shell.execute_reply": "2025-10-03T05:02:55.660901Z"
    },
    "papermill": {
     "duration": 0.016943,
     "end_time": "2025-10-03T05:02:55.663604",
     "exception": false,
     "start_time": "2025-10-03T05:02:55.646661",
     "status": "completed"
    },
    "tags": []
   },
   "outputs": [],
   "source": [
    "def train_batch(x, y, model, optimizer, loss_func):\n",
    "    model.train()\n",
    "    x, y = x.to(device), y.to(device)\n",
    "    pred = model(x)\n",
    "    batch_loss = loss_func(pred, y)\n",
    "    batch_loss.backward()\n",
    "    optimizer.step()\n",
    "    optimizer.zero_grad()\n",
    "    return batch_loss.item()"
   ]
  },
  {
   "cell_type": "code",
   "execution_count": 7,
   "id": "63fcd19a",
   "metadata": {
    "execution": {
     "iopub.execute_input": "2025-10-03T05:02:55.680901Z",
     "iopub.status.busy": "2025-10-03T05:02:55.680584Z",
     "iopub.status.idle": "2025-10-03T05:02:55.686708Z",
     "shell.execute_reply": "2025-10-03T05:02:55.685940Z"
    },
    "papermill": {
     "duration": 0.016639,
     "end_time": "2025-10-03T05:02:55.687855",
     "exception": false,
     "start_time": "2025-10-03T05:02:55.671216",
     "status": "completed"
    },
    "tags": []
   },
   "outputs": [],
   "source": [
    "@torch.no_grad()\n",
    "def accuracy(x, y, model):\n",
    "    model.eval()\n",
    "    prediction = model(x)\n",
    "    max_values, argmaxes = prediction.max(-1) # max class, and class indices\n",
    "    is_correct = argmaxes == y # does predicted class match the actual y\n",
    "    return is_correct.cpu().numpy().tolist()"
   ]
  },
  {
   "cell_type": "code",
   "execution_count": 8,
   "id": "a325c9f2",
   "metadata": {
    "execution": {
     "iopub.execute_input": "2025-10-03T05:02:55.710672Z",
     "iopub.status.busy": "2025-10-03T05:02:55.710374Z",
     "iopub.status.idle": "2025-10-03T05:02:55.716684Z",
     "shell.execute_reply": "2025-10-03T05:02:55.715817Z"
    },
    "papermill": {
     "duration": 0.019102,
     "end_time": "2025-10-03T05:02:55.718081",
     "exception": false,
     "start_time": "2025-10-03T05:02:55.698979",
     "status": "completed"
    },
    "tags": []
   },
   "outputs": [],
   "source": [
    "def get_data():\n",
    "    train = FMNISTDataset(fmnist_data.data, fmnist_data.targets)\n",
    "    train_dl = DataLoader(train, batch_size=30, shuffle=True)\n",
    "    val = FMNISTDataset(fmnist_val.data, fmnist_val.targets)\n",
    "    val_dl = DataLoader(train, batch_size=len(fmnist_val.data), shuffle=True)\n",
    "    return train_dl, val_dl"
   ]
  },
  {
   "cell_type": "code",
   "execution_count": 9,
   "id": "4521c848",
   "metadata": {
    "execution": {
     "iopub.execute_input": "2025-10-03T05:02:55.738814Z",
     "iopub.status.busy": "2025-10-03T05:02:55.738633Z",
     "iopub.status.idle": "2025-10-03T05:02:55.741902Z",
     "shell.execute_reply": "2025-10-03T05:02:55.741396Z"
    },
    "papermill": {
     "duration": 0.012842,
     "end_time": "2025-10-03T05:02:55.742925",
     "exception": false,
     "start_time": "2025-10-03T05:02:55.730083",
     "status": "completed"
    },
    "tags": []
   },
   "outputs": [],
   "source": [
    "@torch.no_grad()\n",
    "def val_loss(x, y, model):\n",
    "    model.eval()\n",
    "    prediction = model(x)\n",
    "    v_loss = loss_func(prediction, y)\n",
    "    return v_loss"
   ]
  },
  {
   "cell_type": "code",
   "execution_count": 10,
   "id": "99ec247f",
   "metadata": {
    "execution": {
     "iopub.execute_input": "2025-10-03T05:02:55.753545Z",
     "iopub.status.busy": "2025-10-03T05:02:55.753378Z",
     "iopub.status.idle": "2025-10-03T05:02:56.691095Z",
     "shell.execute_reply": "2025-10-03T05:02:56.690231Z"
    },
    "papermill": {
     "duration": 0.94439,
     "end_time": "2025-10-03T05:02:56.692364",
     "exception": false,
     "start_time": "2025-10-03T05:02:55.747974",
     "status": "completed"
    },
    "tags": []
   },
   "outputs": [
    {
     "name": "stdout",
     "output_type": "stream",
     "text": [
      "----------------------------------------------------------------\n",
      "        Layer (type)               Output Shape         Param #\n",
      "================================================================\n",
      "            Conv2d-1           [-1, 64, 26, 26]             640\n",
      "         MaxPool2d-2           [-1, 64, 13, 13]               0\n",
      "              ReLU-3           [-1, 64, 13, 13]               0\n",
      "            Conv2d-4          [-1, 128, 11, 11]          73,856\n",
      "         MaxPool2d-5            [-1, 128, 5, 5]               0\n",
      "              ReLU-6            [-1, 128, 5, 5]               0\n",
      "           Flatten-7                 [-1, 3200]               0\n",
      "            Linear-8                  [-1, 256]         819,456\n",
      "              ReLU-9                  [-1, 256]               0\n",
      "           Linear-10                   [-1, 10]           2,570\n",
      "================================================================\n",
      "Total params: 896,522\n",
      "Trainable params: 896,522\n",
      "Non-trainable params: 0\n",
      "----------------------------------------------------------------\n",
      "Input size (MB): 0.00\n",
      "Forward/backward pass size (MB): 0.69\n",
      "Params size (MB): 3.42\n",
      "Estimated Total Size (MB): 4.11\n",
      "----------------------------------------------------------------\n"
     ]
    }
   ],
   "source": [
    "train_dl , val_dl = get_data()\n",
    "model, loss_func, optimizer = get_model()\n",
    "summary(model, (1, 28, 28))"
   ]
  },
  {
   "cell_type": "code",
   "execution_count": 11,
   "id": "3bc91b86",
   "metadata": {
    "execution": {
     "iopub.execute_input": "2025-10-03T05:02:56.704209Z",
     "iopub.status.busy": "2025-10-03T05:02:56.703765Z",
     "iopub.status.idle": "2025-10-03T05:02:56.707094Z",
     "shell.execute_reply": "2025-10-03T05:02:56.706523Z"
    },
    "papermill": {
     "duration": 0.01045,
     "end_time": "2025-10-03T05:02:56.708191",
     "exception": false,
     "start_time": "2025-10-03T05:02:56.697741",
     "status": "completed"
    },
    "tags": []
   },
   "outputs": [],
   "source": [
    "train_losses , train_accuracies = [], []\n",
    "val_losses , val_accuracies = [], []"
   ]
  },
  {
   "cell_type": "code",
   "execution_count": 12,
   "id": "a2732fb6",
   "metadata": {
    "execution": {
     "iopub.execute_input": "2025-10-03T05:02:56.719321Z",
     "iopub.status.busy": "2025-10-03T05:02:56.718865Z",
     "iopub.status.idle": "2025-10-03T05:04:11.047937Z",
     "shell.execute_reply": "2025-10-03T05:04:11.047275Z"
    },
    "papermill": {
     "duration": 74.336105,
     "end_time": "2025-10-03T05:04:11.049365",
     "exception": false,
     "start_time": "2025-10-03T05:02:56.713260",
     "status": "completed"
    },
    "tags": []
   },
   "outputs": [
    {
     "name": "stdout",
     "output_type": "stream",
     "text": [
      "epoch:  0\n",
      "epoch:  1\n",
      "epoch:  2\n",
      "epoch:  3\n",
      "epoch:  4\n",
      "epoch:  5\n",
      "epoch:  6\n",
      "epoch:  7\n",
      "epoch:  8\n",
      "epoch:  9\n"
     ]
    }
   ],
   "source": [
    "for epoch in range(10):\n",
    "    print('epoch: ', epoch)\n",
    "    \n",
    "    # training loop\n",
    "    train_epoch_losses, train_epoch_accuracies = [], []\n",
    "    for x, y in train_dl:\n",
    "        x, y = x.to(device), y.to(device)\n",
    "        train_epoch_losses.append(train_batch(x, y, model, optimizer, loss_func))\n",
    "        train_epoch_accuracies.append(accuracy(x, y, model))\n",
    "    train_losses.append(np.mean(train_epoch_losses))\n",
    "    train_accuracies.append(np.mean(train_epoch_accuracies))\n",
    "    \n",
    "    # validation loop\n",
    "    val_epoch_losses, val_epoch_accuracies = [], []\n",
    "    for x, y in val_dl:\n",
    "        x, y = x.to(device), y.to(device)\n",
    "        val_epoch_losses.append(val_loss(x, y, model).detach().cpu().item())\n",
    "        val_epoch_accuracies.extend(accuracy(x, y, model))\n",
    "    val_losses.append(np.mean(val_epoch_losses))\n",
    "    val_accuracies.append(np.mean(val_epoch_accuracies))"
   ]
  },
  {
   "cell_type": "code",
   "execution_count": 13,
   "id": "c7f51361",
   "metadata": {
    "execution": {
     "iopub.execute_input": "2025-10-03T05:04:11.061455Z",
     "iopub.status.busy": "2025-10-03T05:04:11.061229Z",
     "iopub.status.idle": "2025-10-03T05:04:11.065465Z",
     "shell.execute_reply": "2025-10-03T05:04:11.064925Z"
    },
    "papermill": {
     "duration": 0.011293,
     "end_time": "2025-10-03T05:04:11.066399",
     "exception": false,
     "start_time": "2025-10-03T05:04:11.055106",
     "status": "completed"
    },
    "tags": []
   },
   "outputs": [
    {
     "name": "stdout",
     "output_type": "stream",
     "text": [
      "train losses:  [0.4246705446895212, 0.27776930048828946, 0.22892645040433854, 0.18998181610694156, 0.1636695677220123, 0.13535580416745507, 0.11207146650075447, 0.09436792462895391, 0.07945760048174998, 0.06898887608485166]\n",
      "train accuracies:  [0.8562333333333333, 0.9058333333333334, 0.9250166666666667, 0.9400333333333334, 0.9497333333333333, 0.9615166666666667, 0.96955, 0.9758333333333333, 0.9811666666666666, 0.9853833333333334]\n",
      "val losses:  [0.29664229849974316, 0.23352276533842087, 0.19465853770573935, 0.15213849892218909, 0.13941577325264612, 0.10096890106797218, 0.08365877841909726, 0.0736707237859567, 0.05398322083055973, 0.052383954326311745]\n",
      "val accuracies:  [0.8908, 0.9124166666666667, 0.92745, 0.9442166666666667, 0.9489, 0.9618333333333333, 0.9695333333333334, 0.9721166666666666, 0.9812333333333333, 0.9805166666666667]\n"
     ]
    }
   ],
   "source": [
    "print('train losses: ', train_losses)\n",
    "print('train accuracies: ', train_accuracies)\n",
    "print('val losses: ', val_losses)\n",
    "print('val accuracies: ', val_accuracies)"
   ]
  },
  {
   "cell_type": "code",
   "execution_count": 14,
   "id": "dc281012",
   "metadata": {
    "execution": {
     "iopub.execute_input": "2025-10-03T05:04:11.078200Z",
     "iopub.status.busy": "2025-10-03T05:04:11.078010Z",
     "iopub.status.idle": "2025-10-03T05:04:11.720102Z",
     "shell.execute_reply": "2025-10-03T05:04:11.719383Z"
    },
    "papermill": {
     "duration": 0.650045,
     "end_time": "2025-10-03T05:04:11.721941",
     "exception": false,
     "start_time": "2025-10-03T05:04:11.071896",
     "status": "completed"
    },
    "tags": []
   },
   "outputs": [
    {
     "data": {
      "image/png": "[encoded data removed]",
      "text/plain": [
       "<Figure size 1000x800 with 4 Axes>"
      ]
     },
     "metadata": {},
     "output_type": "display_data"
    }
   ],
   "source": [
    "epochs_train = np.arange(1, len(train_losses) + 1)\n",
    "epochs_val   = np.arange(1, len(val_losses) + 1)\n",
    "epochs_train_acc = np.arange(1, len(train_accuracies) + 1)\n",
    "epochs_val_acc   = np.arange(1, len(val_accuracies) + 1)\n",
    "\n",
    "fig, axes = plt.subplots(2, 2, figsize=(10, 8))\n",
    "\n",
    "# train accuracy\n",
    "axes[0, 0].plot(epochs_train_acc, train_accuracies, marker='o', color='green', label=\"Train Accuracy\")\n",
    "axes[0, 0].set_title(\"Training Accuracy\")\n",
    "axes[0, 0].set_xlabel(\"Epochs\")\n",
    "axes[0, 0].set_ylabel(\"Accuracy\")\n",
    "axes[0, 0].legend()\n",
    "# training loss\n",
    "axes[0, 1].plot(epochs_train, train_losses, marker='o', color='red', label=\"Train Loss\")\n",
    "axes[0, 1].set_title(\"Training Loss\")\n",
    "axes[0, 1].set_xlabel(\"Epochs\")\n",
    "axes[0, 1].set_ylabel(\"Loss\")\n",
    "axes[0, 1].legend()\n",
    "\n",
    "# val accuracy\n",
    "axes[1, 0].plot(epochs_val_acc, val_accuracies, marker='o', color='green', label=\"Validatiion Accuracy\")\n",
    "axes[1, 0].set_title(\"Validation Accuracy\")\n",
    "axes[1, 0].set_xlabel(\"Epochs\")\n",
    "axes[1, 0].set_ylabel(\"Accuracy\")\n",
    "axes[1, 0].legend()\n",
    "# val loss\n",
    "axes[1, 1].plot(epochs_val, val_losses, marker='o', color='red', label=\"Validation Loss\")\n",
    "axes[1, 1].set_title(\"Validation Loss\")\n",
    "axes[1, 1].set_xlabel(\"Epochs\")\n",
    "axes[1, 1].set_ylabel(\"Loss\")\n",
    "axes[1, 1].legend()\n",
    "\n",
    "plt.tight_layout() # adjust spaces\n",
    "plt.show()"
   ]
  }
 ],
 "metadata": {
  "kaggle": {
   "accelerator": "nvidiaTeslaT4",
   "dataSources": [],
   "dockerImageVersionId": 31090,
   "isGpuEnabled": true,
   "isInternetEnabled": true,
   "language": "python",
   "sourceType": "notebook"
  },
  "kernelspec": {
   "display_name": "Python 3",
   "language": "python",
   "name": "python3"
  },
  "language_info": {
   "codemirror_mode": {
    "name": "ipython",
    "version": 3
   },
   "file_extension": ".py",
   "mimetype": "text/x-python",
   "name": "python",
   "nbconvert_exporter": "python",
   "pygments_lexer": "ipython3",
   "version": "3.11.13"
  },
  "papermill": {
   "default_parameters": {},
   "duration": 103.796907,
   "end_time": "2025-10-03T05:04:13.149355",
   "environment_variables": {},
   "exception": null,
   "input_path": "__notebook__.ipynb",
   "output_path": "__notebook__.ipynb",
   "parameters": {},
   "start_time": "2025-10-03T05:02:29.352448",
   "version": "2.6.0"
  }
 },
 "nbformat": 4,
 "nbformat_minor": 5
}
