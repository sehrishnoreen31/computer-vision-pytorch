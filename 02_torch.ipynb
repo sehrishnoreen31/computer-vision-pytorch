{
 "cells": [
  {
   "cell_type": "code",
   "execution_count": 58,
   "id": "520cdd7f",
   "metadata": {},
   "outputs": [
    {
     "name": "stdout",
     "output_type": "stream",
     "text": [
      "2.8.0+cpu\n"
     ]
    }
   ],
   "source": [
    "import torch \n",
    "print(torch.__version__)\n",
    "import numpy as np\n",
    "import matplotlib.pyplot as plt"
   ]
  },
  {
   "cell_type": "markdown",
   "id": "b68de086",
   "metadata": {},
   "source": [
    "## Tensors"
   ]
  },
  {
   "cell_type": "code",
   "execution_count": 5,
   "id": "db35184a",
   "metadata": {},
   "outputs": [
    {
     "data": {
      "text/plain": [
       "torch.Size([1, 2])"
      ]
     },
     "metadata": {},
     "output_type": "display_data"
    },
    {
     "data": {
      "text/plain": [
       "torch.Size([2, 1])"
      ]
     },
     "metadata": {},
     "output_type": "display_data"
    }
   ],
   "source": [
    "x = torch.tensor([[2,3]])\n",
    "y = torch.tensor([[1], [2]])\n",
    "\n",
    "display(x.shape)\n",
    "display(y.shape)"
   ]
  },
  {
   "cell_type": "code",
   "execution_count": null,
   "id": "a735731f",
   "metadata": {},
   "outputs": [
    {
     "data": {
      "text/plain": [
       "tensor([0, 5, 1])"
      ]
     },
     "metadata": {},
     "output_type": "display_data"
    }
   ],
   "source": [
    "b = torch.tensor([False, 5, True])\n",
    "display(b)"
   ]
  },
  {
   "cell_type": "code",
   "execution_count": 10,
   "id": "68d910c9",
   "metadata": {},
   "outputs": [
    {
     "data": {
      "text/plain": [
       "tensor([[0., 0., 0., 0., 0.],\n",
       "        [0., 0., 0., 0., 0.]])"
      ]
     },
     "metadata": {},
     "output_type": "display_data"
    }
   ],
   "source": [
    "# zero tensor\n",
    "zero_tensor = torch.zeros(2,5) \n",
    "display(zero_tensor)"
   ]
  },
  {
   "cell_type": "code",
   "execution_count": 12,
   "id": "ab8c2e21",
   "metadata": {},
   "outputs": [
    {
     "data": {
      "text/plain": [
       "tensor([[1., 1., 1., 1., 1., 1., 1., 1., 1.],\n",
       "        [1., 1., 1., 1., 1., 1., 1., 1., 1.],\n",
       "        [1., 1., 1., 1., 1., 1., 1., 1., 1.],\n",
       "        [1., 1., 1., 1., 1., 1., 1., 1., 1.],\n",
       "        [1., 1., 1., 1., 1., 1., 1., 1., 1.]])"
      ]
     },
     "metadata": {},
     "output_type": "display_data"
    }
   ],
   "source": [
    "# ones tensor\n",
    "ones_tensor = torch.ones(5,9)\n",
    "display(ones_tensor)"
   ]
  },
  {
   "cell_type": "code",
   "execution_count": 60,
   "id": "a0fac830",
   "metadata": {},
   "outputs": [
    {
     "data": {
      "text/plain": [
       "tensor([[ 8, 11,  3, 14,  3, 12],\n",
       "        [ 2, 11, 13, 14,  6,  9],\n",
       "        [18, 14,  9, 18,  7,  8],\n",
       "        [ 8, 17, 12, 10, 14, 13],\n",
       "        [14, 15, 12, 15,  3, 10]])"
      ]
     },
     "metadata": {},
     "output_type": "display_data"
    }
   ],
   "source": [
    "# random integers tensor in a range\n",
    "rand_tensor = torch.randint(low=2, high=20, size=(5,6))\n",
    "display(rand_tensor)"
   ]
  },
  {
   "cell_type": "code",
   "execution_count": 62,
   "id": "e806cee1",
   "metadata": {},
   "outputs": [
    {
     "data": {
      "text/plain": [
       "tensor([[0.4540, 0.1965, 0.9210, 0.3462, 0.1481, 0.0858],\n",
       "        [0.5909, 0.0659, 0.7476, 0.6253, 0.9392, 0.1338]])"
      ]
     },
     "metadata": {},
     "output_type": "display_data"
    }
   ],
   "source": [
    "# random numbers tensor in range 0, 1\n",
    "g = torch.Generator().manual_seed(43) # every run will give the same random numbers.\n",
    "rand_tensor_01 = torch.rand(size=(2,6), generator=g)\n",
    "display(rand_tensor_01)"
   ]
  },
  {
   "cell_type": "code",
   "execution_count": 93,
   "id": "2fd35ca2",
   "metadata": {},
   "outputs": [
    {
     "data": {
      "text/plain": [
       "(array([0.54973294, 0.18324422, 0.36648863, 0.36648853, 0.73297706,\n",
       "        0.36648863, 0.18324422, 0.54973294, 0.36648843, 0.        ,\n",
       "        0.        , 0.        , 0.18324431, 0.        , 0.18324431,\n",
       "        0.18324431, 0.        , 0.        , 0.        , 0.18324412]),\n",
       " array([-1.27191734, -1.04453421, -0.81715095, -0.58976781, -0.36238462,\n",
       "        -0.13500142,  0.09238172,  0.31976497,  0.54714811,  0.77453136,\n",
       "         1.0019145 ,  1.22929764,  1.45668077,  1.68406391,  1.91144729,\n",
       "         2.13883042,  2.36621356,  2.5935967 ,  2.82098007,  3.04836321,\n",
       "         3.27574658]),\n",
       " <BarContainer object of 20 artists>)"
      ]
     },
     "execution_count": 93,
     "metadata": {},
     "output_type": "execute_result"
    },
    {
     "data": {
      "image/png": "[encoded data removed]",
      "text/plain": [
       "<Figure size 600x300 with 1 Axes>"
      ]
     },
     "metadata": {},
     "output_type": "display_data"
    }
   ],
   "source": [
    "# random numbers tensor with normal distribution\n",
    "rand_tensor_n = torch.randn((3,8))\n",
    "# display(rand_tensor_n)\n",
    "plt.figure(figsize=(6,3))\n",
    "plt.hist(rand_tensor_n.numpy().flatten(), density=True, bins=20, alpha=0.7, color='red')"
   ]
  },
  {
   "cell_type": "code",
   "execution_count": 94,
   "id": "0aebd1bc",
   "metadata": {},
   "outputs": [
    {
     "data": {
      "text/plain": [
       "(array([2.92941624e-04, 1.44029548e-03, 4.98000761e-03, 1.39147191e-02,\n",
       "        3.73988807e-02, 8.25118908e-02, 1.56088971e-01, 2.48463321e-01,\n",
       "        3.34612570e-01, 3.92736842e-01, 3.83899999e-01, 3.15522541e-01,\n",
       "        2.26028875e-01, 1.34362402e-01, 6.71568674e-02, 2.69994530e-02,\n",
       "        1.05214867e-02, 3.12471066e-03, 9.76470944e-04, 1.46470983e-04]),\n",
       " array([-4.03426218, -3.62462425, -3.21498609, -2.80534816, -2.39570999,\n",
       "        -1.98607206, -1.57643414, -1.16679597, -0.75715804, -0.34752011,\n",
       "         0.06211805,  0.47175598,  0.88139391,  1.29103184,  1.70067024,\n",
       "         2.11030817,  2.5199461 ,  2.92958403,  3.33922195,  3.74886036,\n",
       "         4.15849781]),\n",
       " <BarContainer object of 20 artists>)"
      ]
     },
     "execution_count": 94,
     "metadata": {},
     "output_type": "execute_result"
    },
    {
     "data": {
      "image/png": "[encoded data removed]",
      "text/plain": [
       "<Figure size 600x300 with 1 Axes>"
      ]
     },
     "metadata": {},
     "output_type": "display_data"
    }
   ],
   "source": [
    "# random numbers tensor with normal distribution\n",
    "rand_tensor_n = torch.randn(100000)\n",
    "\n",
    "# display(rand_tensor_n)\n",
    "plt.figure(figsize=(6,3))\n",
    "plt.hist(rand_tensor_n.numpy().flatten(), density=True, bins=20, alpha=0.7, color='green')"
   ]
  },
  {
   "cell_type": "code",
   "execution_count": 100,
   "id": "6f6b1f5e",
   "metadata": {},
   "outputs": [
    {
     "name": "stdout",
     "output_type": "stream",
     "text": [
      "x type:  <class 'numpy.ndarray'>\n",
      "x_tensor type:  <class 'torch.Tensor'>\n",
      "x_array type:  <class 'numpy.ndarray'>\n"
     ]
    }
   ],
   "source": [
    "# convert numpy array to tensor and tensor to a numpy array\n",
    "\n",
    "# array to tensor\n",
    "x = np.array([3,3,2])\n",
    "x_tensor = torch.tensor(x)\n",
    "print('x type: ', type(x))\n",
    "print('x_tensor type: ', type(x_tensor))\n",
    "\n",
    "# tensor to array\n",
    "x_array = x_tensor.numpy()\n",
    "print('x_array type: ', type(x_array))"
   ]
  },
  {
   "cell_type": "code",
   "execution_count": 290,
   "id": "b07db6ac",
   "metadata": {},
   "outputs": [
    {
     "name": "stdout",
     "output_type": "stream",
     "text": [
      "tensor([0, 1, 2, 3, 4])\n",
      "tensor([3, 4, 5, 6, 7])\n",
      "tensor([ 0,  4,  8, 12, 16, 20, 24, 28, 32, 36, 40])\n"
     ]
    }
   ],
   "source": [
    "# arange()\n",
    "x = torch.arange(5)\n",
    "print(x)\n",
    "x = torch.arange(3, 8)\n",
    "print(x)\n",
    "x = torch.arange(0, 41, 4)\n",
    "print(x)"
   ]
  },
  {
   "cell_type": "markdown",
   "id": "441e31a6",
   "metadata": {},
   "source": [
    "## Operations on tensors"
   ]
  },
  {
   "cell_type": "code",
   "execution_count": 114,
   "id": "a6d402c6",
   "metadata": {},
   "outputs": [
    {
     "name": "stdout",
     "output_type": "stream",
     "text": [
      "* 10:  tensor([[80, 20, 50, 60],\n",
      "        [60, 30, 20, 10]])\n",
      "+ 10:  tensor([[18, 12, 15, 16],\n",
      "        [16, 13, 12, 11]])\n",
      "- 10:  tensor([[-2, -8, -5, -4],\n",
      "        [-4, -7, -8, -9]])\n",
      "/ 10:  tensor([[0.8000, 0.2000, 0.5000, 0.6000],\n",
      "        [0.6000, 0.3000, 0.2000, 0.1000]])\n",
      "// 10:  tensor([[0, 0, 0, 0],\n",
      "        [0, 0, 0, 0]])\n"
     ]
    }
   ],
   "source": [
    "my_tensor = torch.tensor([[8,2,5,6], [6,3,2,1]])\n",
    "print('* 10: ', my_tensor * 10)\n",
    "my_tensor = torch.tensor([[8,2,5,6], [6,3,2,1]])\n",
    "print('+ 10: ', my_tensor + 10)\n",
    "my_tensor = torch.tensor([[8,2,5,6], [6,3,2,1]])\n",
    "print('- 10: ', my_tensor - 10)\n",
    "my_tensor = torch.tensor([[8,2,5,6], [6,3,2,1]])\n",
    "print('/ 10: ', my_tensor / 10)\n",
    "my_tensor = torch.tensor([[8,2,5,6], [6,3,2,1]])\n",
    "print('// 10: ', my_tensor // 10)"
   ]
  },
  {
   "cell_type": "code",
   "execution_count": 134,
   "id": "48d636eb",
   "metadata": {},
   "outputs": [
    {
     "name": "stdout",
     "output_type": "stream",
     "text": [
      "matrix:  tensor([[8, 2, 5, 6],\n",
      "        [6, 3, 2, 1]])\n",
      "add: 6 tensor([[14,  8, 11, 12],\n",
      "        [12,  9,  8,  7]])\n",
      "subtract: 6 tensor([[ 2, -4, -1,  0],\n",
      "        [ 0, -3, -4, -5]])\n",
      "floor div: 6 tensor([[1, 0, 0, 1],\n",
      "        [1, 0, 0, 0]])\n",
      "multiply: 6 tensor([[48, 12, 30, 36],\n",
      "        [36, 18, 12,  6]])\n",
      "true divide: 6 tensor([[1.3333, 0.3333, 0.8333, 1.0000],\n",
      "        [1.0000, 0.5000, 0.3333, 0.1667]])\n"
     ]
    }
   ],
   "source": [
    "# using methods\n",
    "print('matrix: ', my_tensor)\n",
    "print('add: 6', my_tensor.add(6))\n",
    "print('subtract: 6', my_tensor.sub(6))\n",
    "print('floor div: 6', my_tensor.floor_divide(6))\n",
    "print('multiply: 6', my_tensor.mul(6))\n",
    "print('true divide: 6', my_tensor.true_divide(6))"
   ]
  },
  {
   "cell_type": "markdown",
   "id": "fb0792e5",
   "metadata": {},
   "source": [
    "## Reshape tensor"
   ]
  },
  {
   "cell_type": "code",
   "execution_count": 156,
   "id": "d11987c9",
   "metadata": {},
   "outputs": [
    {
     "name": "stdout",
     "output_type": "stream",
     "text": [
      "x shape:  torch.Size([2, 4])\n",
      "x:  tensor([[3, 6, 3, 7],\n",
      "        [4, 3, 2, 1]])\n",
      "y shape:  torch.Size([2, 4])\n",
      "y:  tensor([[3, 6, 3, 7],\n",
      "        [4, 3, 2, 1]])\n"
     ]
    }
   ],
   "source": [
    "x = torch.tensor([[3, 6, 3, 7], [4, 3, 2, 1]])\n",
    "\n",
    "# using view()\n",
    "y = x.view(2,4)\n",
    "print('x shape: ', x.shape)\n",
    "print('x: ', x)\n",
    "print('y shape: ', y.shape)\n",
    "print('y: ', y)"
   ]
  },
  {
   "cell_type": "code",
   "execution_count": 183,
   "id": "46270aaf",
   "metadata": {},
   "outputs": [
    {
     "name": "stdout",
     "output_type": "stream",
     "text": [
      "d shape:  torch.Size([2, 1, 2, 1])\n",
      "z shape:  torch.Size([2, 2, 1])\n",
      "z:  tensor([[[ 0.6940],\n",
      "         [-1.0253]],\n",
      "\n",
      "        [[ 0.4383],\n",
      "         [ 2.5813]]])\n"
     ]
    }
   ],
   "source": [
    "# using squeeze(dim=1) removes all dimensions with size 1\n",
    "d = torch.randn(2, 1, 2, 1)\n",
    "print('d shape: ', d.shape)\n",
    "z = torch.squeeze(d, dim=1) \n",
    "print('z shape: ', z.shape)\n",
    "print('z: ', z)"
   ]
  },
  {
   "cell_type": "code",
   "execution_count": 187,
   "id": "c6aacad8",
   "metadata": {},
   "outputs": [
    {
     "name": "stdout",
     "output_type": "stream",
     "text": [
      "d shape:  torch.Size([2, 1, 2, 1, 3, 1, 1])\n",
      "z shape:  torch.Size([2, 2, 3])\n",
      "z:  tensor([[[ 0.3864,  1.1925,  0.3871],\n",
      "         [ 0.0696, -0.1113, -0.0680]],\n",
      "\n",
      "        [[ 0.2015,  1.4558, -1.2683],\n",
      "         [-0.5057,  0.2420,  0.3140]]])\n"
     ]
    }
   ],
   "source": [
    "# using squeeze(dim=[n,n,n])\n",
    "d = torch.randn(2, 1, 2, 1, 3, 1, 1)\n",
    "print('d shape: ', d.shape)\n",
    "z = torch.squeeze(d, dim=[1, 3, 5, 6]) \n",
    "print('z shape: ', z.shape)\n",
    "print('z: ', z)\n"
   ]
  },
  {
   "cell_type": "code",
   "execution_count": null,
   "id": "8748f994",
   "metadata": {},
   "outputs": [
    {
     "name": "stdout",
     "output_type": "stream",
     "text": [
      "z:  torch.Size([2, 2, 3])\n",
      "z2:  torch.Size([2, 2, 3, 1])\n",
      "z3:  torch.Size([2, 2, 1, 3])\n",
      "z4:  torch.Size([2, 1, 2, 3])\n",
      "z5:  torch.Size([1, 2, 2, 3])\n"
     ]
    }
   ],
   "source": [
    "# unsqueeze() to add a dimension of 1\n",
    "print('z: ', z.shape)\n",
    "z2 = torch.unsqueeze(z, 3)\n",
    "print('z2: ', z2.shape)\n",
    "z3 = torch.unsqueeze(z, 2)\n",
    "print('z3: ', z3.shape)\n",
    "z4 = torch.unsqueeze(z, 1)\n",
    "print('z4: ', z4.shape)\n",
    "z5 = torch.unsqueeze(z, 0)\n",
    "print('z5: ', z5.shape)"
   ]
  },
  {
   "cell_type": "markdown",
   "id": "5007b71a",
   "metadata": {},
   "source": [
    "## Matrix Multiplication"
   ]
  },
  {
   "cell_type": "code",
   "execution_count": 237,
   "id": "a4acc572",
   "metadata": {},
   "outputs": [
    {
     "data": {
      "text/plain": [
       "'x: '"
      ]
     },
     "metadata": {},
     "output_type": "display_data"
    },
    {
     "data": {
      "text/plain": [
       "tensor([[0.1892, 0.8452],\n",
       "        [1.2831, 0.2663]])"
      ]
     },
     "metadata": {},
     "output_type": "display_data"
    },
    {
     "data": {
      "text/plain": [
       "'y: '"
      ]
     },
     "metadata": {},
     "output_type": "display_data"
    },
    {
     "data": {
      "text/plain": [
       "tensor([[0.6339, 1.4693],\n",
       "        [0.1139, 0.3137]])"
      ]
     },
     "metadata": {},
     "output_type": "display_data"
    },
    {
     "data": {
      "text/plain": [
       "'x * y: '"
      ]
     },
     "metadata": {},
     "output_type": "display_data"
    },
    {
     "data": {
      "text/plain": [
       "tensor([[0.1200, 1.2419],\n",
       "        [0.1462, 0.0836]])"
      ]
     },
     "metadata": {},
     "output_type": "display_data"
    },
    {
     "data": {
      "text/plain": [
       "'x @ y: '"
      ]
     },
     "metadata": {},
     "output_type": "display_data"
    },
    {
     "data": {
      "text/plain": [
       "tensor([[0.2162, 0.5432],\n",
       "        [0.8437, 1.9688]])"
      ]
     },
     "metadata": {},
     "output_type": "display_data"
    },
    {
     "data": {
      "text/plain": [
       "'x matmul y: '"
      ]
     },
     "metadata": {},
     "output_type": "display_data"
    },
    {
     "data": {
      "text/plain": [
       "tensor([[0.2162, 0.5432],\n",
       "        [0.8437, 1.9688]])"
      ]
     },
     "metadata": {},
     "output_type": "display_data"
    },
    {
     "data": {
      "text/plain": [
       "'x dot y: '"
      ]
     },
     "metadata": {},
     "output_type": "display_data"
    },
    {
     "data": {
      "text/plain": [
       "tensor(1.5915)"
      ]
     },
     "metadata": {},
     "output_type": "display_data"
    },
    {
     "data": {
      "text/plain": [
       "'sum(x*y) same as dot: '"
      ]
     },
     "metadata": {},
     "output_type": "display_data"
    },
    {
     "data": {
      "text/plain": [
       "tensor(1.5915)"
      ]
     },
     "metadata": {},
     "output_type": "display_data"
    }
   ],
   "source": [
    "g = torch.Generator().manual_seed(65)\n",
    "x = torch.abs(torch.randn(size=(2,2), generator=g)) # torch.abs() -> positive nums only\n",
    "y = torch.abs(torch.randn(size=(2,2), generator=g))\n",
    "\n",
    "display('x: ', x) # x\n",
    "display('y: ', y) # y\n",
    "display('x * y: ', x * y) # element wise\n",
    "display('x @ y: ', x @ y)\n",
    "display('x matmul y: ', torch.matmul(x,y))\n",
    "display('x dot y: ', torch.dot(x.flatten(),y.flatten())) # 1d tensors only\n",
    "display('sum(x*y) same as dot: ', torch.sum(x*y))"
   ]
  },
  {
   "cell_type": "markdown",
   "id": "b8298e48",
   "metadata": {},
   "source": [
    "## Concatenation"
   ]
  },
  {
   "cell_type": "code",
   "execution_count": 270,
   "id": "2f3518f8",
   "metadata": {},
   "outputs": [
    {
     "name": "stdout",
     "output_type": "stream",
     "text": [
      "x shape:  torch.Size([2, 3])\n",
      "y shape:  torch.Size([2, 3])\n",
      "z1 concat along axis 1,  shape:  torch.Size([2, 6])\n",
      "z2 concat along axis 0, shape:  torch.Size([4, 3])\n"
     ]
    }
   ],
   "source": [
    "g = torch.Generator().manual_seed(60)\n",
    "x = torch.abs(torch.randn(size=(2,3), generator=g)) # torch.abs() -> positive nums only\n",
    "y = torch.abs(torch.randn(size=(2,3), generator=g))\n",
    "z1 = torch.cat([x,y], axis=1) # concat  columns\n",
    "z2 = torch.cat([x,y], axis=0) # concat rows\n",
    "print('x shape: ', x.shape)\n",
    "print('y shape: ', y.shape)\n",
    "print('z1 concat along axis 1,  shape: ', z1.shape)\n",
    "print('z2 concat along axis 0, shape: ', z2.shape)\n",
    "# display('x: ', x)\n",
    "# display('y: ', y)\n",
    "# display('z1 axis 1: ', z1)\n",
    "# display('z2 axis 0: ', z2)"
   ]
  },
  {
   "cell_type": "markdown",
   "id": "26e39f61",
   "metadata": {},
   "source": [
    "## max(), min()"
   ]
  },
  {
   "cell_type": "code",
   "execution_count": 312,
   "id": "f16e0a90",
   "metadata": {},
   "outputs": [
    {
     "name": "stdout",
     "output_type": "stream",
     "text": [
      "tensor(7)\n",
      "tensor(2)\n"
     ]
    }
   ],
   "source": [
    "x = torch.tensor([4,3,2,7])\n",
    "print(x.max())\n",
    "print(x.min())"
   ]
  },
  {
   "cell_type": "code",
   "execution_count": 328,
   "id": "14a5e4b1",
   "metadata": {},
   "outputs": [
    {
     "data": {
      "text/plain": [
       "'max:'"
      ]
     },
     "metadata": {},
     "output_type": "display_data"
    },
    {
     "data": {
      "text/plain": [
       "tensor([[70,  9],\n",
       "        [80, 20]])"
      ]
     },
     "metadata": {},
     "output_type": "display_data"
    },
    {
     "data": {
      "text/plain": [
       "tensor([[3, 0],\n",
       "        [3, 1]])"
      ]
     },
     "metadata": {},
     "output_type": "display_data"
    }
   ],
   "source": [
    "x = torch.tensor([[[4,3,2,70], [9,2,5,1]],\n",
    "                  [[1,3,2,80], [9,20,1,0]]])\n",
    "m, argmax = x.max(dim=2)\n",
    "display('max:', m, argmax)"
   ]
  },
  {
   "cell_type": "code",
   "execution_count": 326,
   "id": "39031dbe",
   "metadata": {},
   "outputs": [
    {
     "data": {
      "text/plain": [
       "'min: '"
      ]
     },
     "metadata": {},
     "output_type": "display_data"
    },
    {
     "data": {
      "text/plain": [
       "tensor([[2, 1],\n",
       "        [1, 0]])"
      ]
     },
     "metadata": {},
     "output_type": "display_data"
    },
    {
     "data": {
      "text/plain": [
       "tensor([[2, 3],\n",
       "        [0, 3]])"
      ]
     },
     "metadata": {},
     "output_type": "display_data"
    }
   ],
   "source": [
    "m, argmax = x.min(dim=2)\n",
    "display('min: ', m, argmax)"
   ]
  },
  {
   "cell_type": "markdown",
   "id": "a47b081e",
   "metadata": {},
   "source": [
    "## Auto gradients"
   ]
  },
  {
   "cell_type": "code",
   "execution_count": 352,
   "id": "f88e1192",
   "metadata": {},
   "outputs": [
    {
     "name": "stdout",
     "output_type": "stream",
     "text": [
      "tensor([[ 2.,  3.],\n",
      "        [ 3., -3.]], requires_grad=True)\n",
      "tensor(31., grad_fn=<SumBackward0>)\n"
     ]
    }
   ],
   "source": [
    "x = torch.tensor([[2., 3.], [3., -3.]], requires_grad=True)\n",
    "out = x.pow(2).sum()\n",
    "print(x)\n",
    "print(out)"
   ]
  },
  {
   "cell_type": "code",
   "execution_count": 353,
   "id": "069fc647",
   "metadata": {},
   "outputs": [
    {
     "data": {
      "text/plain": [
       "tensor([[ 4.,  6.],\n",
       "        [ 6., -6.]])"
      ]
     },
     "execution_count": 353,
     "metadata": {},
     "output_type": "execute_result"
    }
   ],
   "source": [
    "# backprop\n",
    "out.backward()\n",
    "x.grad"
   ]
  }
 ],
 "metadata": {
  "kernelspec": {
   "display_name": ".cvpytorch",
   "language": "python",
   "name": "python3"
  },
  "language_info": {
   "codemirror_mode": {
    "name": "ipython",
    "version": 3
   },
   "file_extension": ".py",
   "mimetype": "text/x-python",
   "name": "python",
   "nbconvert_exporter": "python",
   "pygments_lexer": "ipython3",
   "version": "3.13.7"
  }
 },
 "nbformat": 4,
 "nbformat_minor": 5
}
