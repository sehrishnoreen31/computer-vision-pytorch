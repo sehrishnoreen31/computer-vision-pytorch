{
 "cells": [
  {
   "cell_type": "code",
   "execution_count": 1,
   "id": "f45c4550",
   "metadata": {
    "_cell_guid": "b1076dfc-b9ad-4769-8c92-a6c4dae69d19",
    "_uuid": "8f2839f25d086af736a60e9eeb907d3b93b6e0e5",
    "execution": {
     "iopub.execute_input": "2025-09-23T05:40:06.051888Z",
     "iopub.status.busy": "2025-09-23T05:40:06.051610Z",
     "iopub.status.idle": "2025-09-23T05:40:20.829421Z",
     "shell.execute_reply": "2025-09-23T05:40:20.828809Z"
    },
    "papermill": {
     "duration": 14.783121,
     "end_time": "2025-09-23T05:40:20.830720",
     "exception": false,
     "start_time": "2025-09-23T05:40:06.047599",
     "status": "completed"
    },
    "tags": []
   },
   "outputs": [],
   "source": [
    "import torch\n",
    "import torch.nn as nn\n",
    "import numpy as np\n",
    "import matplotlib.pyplot as plt\n",
    "%matplotlib inline\n",
    "from torchvision import datasets\n",
    "from torch.utils.data import Dataset, DataLoader\n",
    "from torch.optim import SGD\n",
    "device = 'cuda' if torch.cuda.is_available() else 'cpu'"
   ]
  },
  {
   "cell_type": "code",
   "execution_count": 2,
   "id": "da4c01a7",
   "metadata": {
    "execution": {
     "iopub.execute_input": "2025-09-23T05:40:20.837236Z",
     "iopub.status.busy": "2025-09-23T05:40:20.836592Z",
     "iopub.status.idle": "2025-09-23T05:40:20.839753Z",
     "shell.execute_reply": "2025-09-23T05:40:20.839237Z"
    },
    "papermill": {
     "duration": 0.007112,
     "end_time": "2025-09-23T05:40:20.840802",
     "exception": false,
     "start_time": "2025-09-23T05:40:20.833690",
     "status": "completed"
    },
    "tags": []
   },
   "outputs": [],
   "source": [
    "# torch.cuda.is_available()"
   ]
  },
  {
   "cell_type": "code",
   "execution_count": 3,
   "id": "113268b1",
   "metadata": {
    "execution": {
     "iopub.execute_input": "2025-09-23T05:40:20.846036Z",
     "iopub.status.busy": "2025-09-23T05:40:20.845843Z",
     "iopub.status.idle": "2025-09-23T05:40:26.236355Z",
     "shell.execute_reply": "2025-09-23T05:40:26.235544Z"
    },
    "papermill": {
     "duration": 5.394603,
     "end_time": "2025-09-23T05:40:26.237644",
     "exception": false,
     "start_time": "2025-09-23T05:40:20.843041",
     "status": "completed"
    },
    "tags": []
   },
   "outputs": [
    {
     "name": "stderr",
     "output_type": "stream",
     "text": [
      "100%|██████████| 26.4M/26.4M [00:01<00:00, 16.0MB/s]\n",
      "100%|██████████| 29.5k/29.5k [00:00<00:00, 270kB/s]\n",
      "100%|██████████| 4.42M/4.42M [00:00<00:00, 5.04MB/s]\n",
      "100%|██████████| 5.15k/5.15k [00:00<00:00, 11.8MB/s]\n"
     ]
    }
   ],
   "source": [
    "# download dataset\n",
    "data_set_folder = '/kaggle/working'\n",
    "# fashion mnist dataset\n",
    "fmnist = datasets.FashionMNIST(data_set_folder, download=True, train=True)"
   ]
  },
  {
   "cell_type": "code",
   "execution_count": 4,
   "id": "a9bf557b",
   "metadata": {
    "execution": {
     "iopub.execute_input": "2025-09-23T05:40:26.246282Z",
     "iopub.status.busy": "2025-09-23T05:40:26.246054Z",
     "iopub.status.idle": "2025-09-23T05:40:26.249664Z",
     "shell.execute_reply": "2025-09-23T05:40:26.248988Z"
    },
    "papermill": {
     "duration": 0.009183,
     "end_time": "2025-09-23T05:40:26.250883",
     "exception": false,
     "start_time": "2025-09-23T05:40:26.241700",
     "status": "completed"
    },
    "tags": []
   },
   "outputs": [],
   "source": [
    "train_fmnist = fmnist.data\n",
    "target_fmnist = fmnist.targets"
   ]
  },
  {
   "cell_type": "code",
   "execution_count": 5,
   "id": "ec6c4e4f",
   "metadata": {
    "execution": {
     "iopub.execute_input": "2025-09-23T05:40:26.259626Z",
     "iopub.status.busy": "2025-09-23T05:40:26.259421Z",
     "iopub.status.idle": "2025-09-23T05:40:26.263750Z",
     "shell.execute_reply": "2025-09-23T05:40:26.263045Z"
    },
    "papermill": {
     "duration": 0.009772,
     "end_time": "2025-09-23T05:40:26.264834",
     "exception": false,
     "start_time": "2025-09-23T05:40:26.255062",
     "status": "completed"
    },
    "tags": []
   },
   "outputs": [],
   "source": [
    "# fetch datasset\n",
    "class FmnistData(Dataset):\n",
    "    def __init__(self, x, y):\n",
    "        x = x.float()/255 # scale data\n",
    "        x = x.view(-1, 28*28)\n",
    "        self.x, self.y = x, y\n",
    "    def __getitem__(self, ix):\n",
    "        x, y = self.x[ix], self.y[ix]\n",
    "        return x.to(device), y.to(device)\n",
    "    def __len__(self):\n",
    "        return len(self.x)"
   ]
  },
  {
   "cell_type": "code",
   "execution_count": 6,
   "id": "7be15817",
   "metadata": {
    "execution": {
     "iopub.execute_input": "2025-09-23T05:40:26.272449Z",
     "iopub.status.busy": "2025-09-23T05:40:26.272255Z",
     "iopub.status.idle": "2025-09-23T05:40:26.275635Z",
     "shell.execute_reply": "2025-09-23T05:40:26.275121Z"
    },
    "papermill": {
     "duration": 0.008275,
     "end_time": "2025-09-23T05:40:26.276612",
     "exception": false,
     "start_time": "2025-09-23T05:40:26.268337",
     "status": "completed"
    },
    "tags": []
   },
   "outputs": [],
   "source": [
    "# load dataset\n",
    "def get_data():\n",
    "    train = FmnistData(train_fmnist, target_fmnist)\n",
    "    train_dl = DataLoader(train, batch_size=30, shuffle=True)\n",
    "    return train_dl"
   ]
  },
  {
   "cell_type": "code",
   "execution_count": 7,
   "id": "7a653560",
   "metadata": {
    "execution": {
     "iopub.execute_input": "2025-09-23T05:40:26.284261Z",
     "iopub.status.busy": "2025-09-23T05:40:26.284070Z",
     "iopub.status.idle": "2025-09-23T05:40:26.287891Z",
     "shell.execute_reply": "2025-09-23T05:40:26.287303Z"
    },
    "papermill": {
     "duration": 0.008869,
     "end_time": "2025-09-23T05:40:26.289002",
     "exception": false,
     "start_time": "2025-09-23T05:40:26.280133",
     "status": "completed"
    },
    "tags": []
   },
   "outputs": [],
   "source": [
    "# define model\n",
    "def get_model():\n",
    "    model = nn.Sequential(\n",
    "        nn.Linear(28*28, 1000),\n",
    "        nn.ReLU(),\n",
    "        nn.Linear(1000, 10) # 10 classes\n",
    "    ).to(device)\n",
    "    # calculate loss\n",
    "    loss_func = nn.CrossEntropyLoss()\n",
    "    # optimizer\n",
    "    optimizer = SGD(model.parameters(), lr=0.01)\n",
    "    return model, loss_func, optimizer"
   ]
  },
  {
   "cell_type": "code",
   "execution_count": 8,
   "id": "a30c5e65",
   "metadata": {
    "execution": {
     "iopub.execute_input": "2025-09-23T05:40:26.296845Z",
     "iopub.status.busy": "2025-09-23T05:40:26.296621Z",
     "iopub.status.idle": "2025-09-23T05:40:26.300290Z",
     "shell.execute_reply": "2025-09-23T05:40:26.299798Z"
    },
    "papermill": {
     "duration": 0.008659,
     "end_time": "2025-09-23T05:40:26.301274",
     "exception": false,
     "start_time": "2025-09-23T05:40:26.292615",
     "status": "completed"
    },
    "tags": []
   },
   "outputs": [],
   "source": [
    "# train batch\n",
    "def train_batch(x, y, model, optimizer, loss_func):\n",
    "    model.train()\n",
    "    prediction = model(x)\n",
    "    batch_loss = loss_func(prediction, y)\n",
    "    batch_loss.backward()\n",
    "    # weight update\n",
    "    optimizer.step()\n",
    "    # reset previous grads\n",
    "    optimizer.zero_grad()\n",
    "    return batch_loss.item()"
   ]
  },
  {
   "cell_type": "code",
   "execution_count": 9,
   "id": "179797c1",
   "metadata": {
    "execution": {
     "iopub.execute_input": "2025-09-23T05:40:26.309116Z",
     "iopub.status.busy": "2025-09-23T05:40:26.308941Z",
     "iopub.status.idle": "2025-09-23T05:40:26.312271Z",
     "shell.execute_reply": "2025-09-23T05:40:26.311809Z"
    },
    "papermill": {
     "duration": 0.008378,
     "end_time": "2025-09-23T05:40:26.313244",
     "exception": false,
     "start_time": "2025-09-23T05:40:26.304866",
     "status": "completed"
    },
    "tags": []
   },
   "outputs": [],
   "source": [
    "# calculate accuracy\n",
    "@torch.no_grad() # disable grads\n",
    "def accuracy(x, y, model):\n",
    "    model.eval()\n",
    "    prediction = model(x)\n",
    "    max_values, argmaxes = prediction.max(-1)\n",
    "    is_correct = argmaxes == y\n",
    "    return is_correct.cpu().numpy().tolist()"
   ]
  },
  {
   "cell_type": "code",
   "execution_count": 10,
   "id": "4104670f",
   "metadata": {
    "execution": {
     "iopub.execute_input": "2025-09-23T05:40:26.321301Z",
     "iopub.status.busy": "2025-09-23T05:40:26.320906Z",
     "iopub.status.idle": "2025-09-23T05:41:44.254395Z",
     "shell.execute_reply": "2025-09-23T05:41:44.253605Z"
    },
    "papermill": {
     "duration": 77.939037,
     "end_time": "2025-09-23T05:41:44.255822",
     "exception": false,
     "start_time": "2025-09-23T05:40:26.316785",
     "status": "completed"
    },
    "tags": []
   },
   "outputs": [
    {
     "name": "stdout",
     "output_type": "stream",
     "text": [
      "0\n",
      "1\n",
      "2\n",
      "3\n",
      "4\n",
      "5\n",
      "6\n",
      "7\n",
      "8\n",
      "9\n"
     ]
    }
   ],
   "source": [
    "# train the model without data scale\n",
    "train_dl = get_data()\n",
    "model, loss_func, optimizer = get_model()\n",
    "losses, accuracies = [], []\n",
    "for epoch in range(10):\n",
    "    print(epoch)\n",
    "    epoch_losses, epoch_accuracies = [], []\n",
    "    # training\n",
    "    for ix, batch in enumerate(iter(train_dl)):\n",
    "        x, y = batch\n",
    "        batch_loss = train_batch(x, y, model, optimizer, loss_func)\n",
    "        epoch_losses.append(batch_loss)\n",
    "    epoch_loss = np.array(epoch_losses).mean()\n",
    "    # evaluation\n",
    "    for ix, batch in enumerate(iter(train_dl)):\n",
    "        x, y = batch\n",
    "        is_correct = accuracy(x, y, model)\n",
    "        epoch_accuracies.extend(is_correct)\n",
    "    epoch_accuracy = np.mean(epoch_accuracies)\n",
    "    losses.append(epoch_loss)\n",
    "    accuracies.append(epoch_accuracy)"
   ]
  },
  {
   "cell_type": "code",
   "execution_count": 11,
   "id": "01d7a887",
   "metadata": {
    "execution": {
     "iopub.execute_input": "2025-09-23T05:41:44.265181Z",
     "iopub.status.busy": "2025-09-23T05:41:44.264695Z",
     "iopub.status.idle": "2025-09-23T05:41:44.773030Z",
     "shell.execute_reply": "2025-09-23T05:41:44.772359Z"
    },
    "papermill": {
     "duration": 0.514343,
     "end_time": "2025-09-23T05:41:44.774436",
     "exception": false,
     "start_time": "2025-09-23T05:41:44.260093",
     "status": "completed"
    },
    "tags": []
   },
   "outputs": [
    {
     "data": {
      "text/plain": [
       "<matplotlib.legend.Legend at 0x7f066335e0d0>"
      ]
     },
     "execution_count": 11,
     "metadata": {},
     "output_type": "execute_result"
    },
    {
     "data": {
      "image/png": "[encoded data removed]",
      "text/plain": [
       "<Figure size 640x480 with 2 Axes>"
      ]
     },
     "metadata": {},
     "output_type": "display_data"
    }
   ],
   "source": [
    "epochs = np.arange(10) + 1\n",
    "plt.subplot(121)\n",
    "plt.title('loss over increasing epochs')\n",
    "plt.plot(epochs, losses, label='training loss')\n",
    "plt.legend()\n",
    "plt.subplot(122)\n",
    "plt.title('accuracy over increasing epochs')\n",
    "plt.plot(epochs, accuracies, label='training accuracy')\n",
    "plt.legend()"
   ]
  },
  {
   "cell_type": "code",
   "execution_count": 12,
   "id": "f702962d",
   "metadata": {
    "execution": {
     "iopub.execute_input": "2025-09-23T05:41:44.785084Z",
     "iopub.status.busy": "2025-09-23T05:41:44.784884Z",
     "iopub.status.idle": "2025-09-23T05:43:01.927986Z",
     "shell.execute_reply": "2025-09-23T05:43:01.927320Z"
    },
    "papermill": {
     "duration": 77.149803,
     "end_time": "2025-09-23T05:43:01.929374",
     "exception": false,
     "start_time": "2025-09-23T05:41:44.779571",
     "status": "completed"
    },
    "tags": []
   },
   "outputs": [
    {
     "name": "stdout",
     "output_type": "stream",
     "text": [
      "0\n",
      "1\n",
      "2\n",
      "3\n",
      "4\n",
      "5\n",
      "6\n",
      "7\n",
      "8\n",
      "9\n"
     ]
    }
   ],
   "source": [
    "# train the model after data scale\n",
    "train_dl = get_data()\n",
    "model, loss_func, optimizer = get_model()\n",
    "losses, accuracies = [], []\n",
    "for epoch in range(10):\n",
    "    print(epoch)\n",
    "    epoch_losses, epoch_accuracies = [], []\n",
    "    # training\n",
    "    for ix, batch in enumerate(iter(train_dl)):\n",
    "        x, y = batch\n",
    "        batch_loss = train_batch(x, y, model, optimizer, loss_func)\n",
    "        epoch_losses.append(batch_loss)\n",
    "    epoch_loss = np.array(epoch_losses).mean()\n",
    "    # evaluation\n",
    "    for ix, batch in enumerate(iter(train_dl)):\n",
    "        x, y = batch\n",
    "        is_correct = accuracy(x, y, model)\n",
    "        epoch_accuracies.extend(is_correct)\n",
    "    epoch_accuracy = np.mean(epoch_accuracies)\n",
    "    losses.append(epoch_loss)\n",
    "    accuracies.append(epoch_accuracy)"
   ]
  },
  {
   "cell_type": "code",
   "execution_count": 13,
   "id": "f8b2c8da",
   "metadata": {
    "execution": {
     "iopub.execute_input": "2025-09-23T05:43:01.941046Z",
     "iopub.status.busy": "2025-09-23T05:43:01.940645Z",
     "iopub.status.idle": "2025-09-23T05:43:02.245854Z",
     "shell.execute_reply": "2025-09-23T05:43:02.245055Z"
    },
    "papermill": {
     "duration": 0.31206,
     "end_time": "2025-09-23T05:43:02.247050",
     "exception": false,
     "start_time": "2025-09-23T05:43:01.934990",
     "status": "completed"
    },
    "tags": []
   },
   "outputs": [
    {
     "data": {
      "text/plain": [
       "<matplotlib.legend.Legend at 0x7f0654443b90>"
      ]
     },
     "execution_count": 13,
     "metadata": {},
     "output_type": "execute_result"
    },
    {
     "data": {
      "image/png": "[encoded data removed]",
      "text/plain": [
       "<Figure size 640x480 with 2 Axes>"
      ]
     },
     "metadata": {},
     "output_type": "display_data"
    }
   ],
   "source": [
    "epochs = np.arange(10) + 1\n",
    "plt.subplot(121)\n",
    "plt.title('loss over increasing epochs')\n",
    "plt.plot(epochs, losses, label='training loss')\n",
    "plt.legend()\n",
    "plt.subplot(122)\n",
    "plt.title('accuracy over increasing epochs')\n",
    "plt.plot(epochs, accuracies, label='training accuracy')\n",
    "plt.legend()"
   ]
  }
 ],
 "metadata": {
  "kaggle": {
   "accelerator": "nvidiaTeslaT4",
   "dataSources": [],
   "dockerImageVersionId": 31090,
   "isGpuEnabled": true,
   "isInternetEnabled": true,
   "language": "python",
   "sourceType": "notebook"
  },
  "kernelspec": {
   "display_name": "Python 3",
   "language": "python",
   "name": "python3"
  },
  "language_info": {
   "codemirror_mode": {
    "name": "ipython",
    "version": 3
   },
   "file_extension": ".py",
   "mimetype": "text/x-python",
   "name": "python",
   "nbconvert_exporter": "python",
   "pygments_lexer": "ipython3",
   "version": "3.11.13"
  },
  "papermill": {
   "default_parameters": {},
   "duration": 185.360005,
   "end_time": "2025-09-23T05:43:05.073021",
   "environment_variables": {},
   "exception": null,
   "input_path": "__notebook__.ipynb",
   "output_path": "__notebook__.ipynb",
   "parameters": {},
   "start_time": "2025-09-23T05:39:59.713016",
   "version": "2.6.0"
  }
 },
 "nbformat": 4,
 "nbformat_minor": 5
}
