{
 "cells": [
  {
   "cell_type": "code",
   "execution_count": 1,
   "id": "0eb94485",
   "metadata": {
    "_cell_guid": "b1076dfc-b9ad-4769-8c92-a6c4dae69d19",
    "_uuid": "8f2839f25d086af736a60e9eeb907d3b93b6e0e5",
    "execution": {
     "iopub.execute_input": "2025-09-23T05:59:12.863944Z",
     "iopub.status.busy": "2025-09-23T05:59:12.863742Z",
     "iopub.status.idle": "2025-09-23T05:59:20.894078Z",
     "shell.execute_reply": "2025-09-23T05:59:20.893493Z"
    },
    "papermill": {
     "duration": 8.035488,
     "end_time": "2025-09-23T05:59:20.895614",
     "exception": false,
     "start_time": "2025-09-23T05:59:12.860126",
     "status": "completed"
    },
    "tags": []
   },
   "outputs": [],
   "source": [
    "import torch\n",
    "import torch.nn as nn\n",
    "import numpy as np\n",
    "import matplotlib.pyplot as plt\n",
    "%matplotlib inline\n",
    "from torchvision import datasets\n",
    "from torch.utils.data import Dataset, DataLoader\n",
    "from torch.optim import SGD\n",
    "device = 'cuda' if torch.cuda.is_available() else 'cpu'"
   ]
  },
  {
   "cell_type": "code",
   "execution_count": 2,
   "id": "f0ea0003",
   "metadata": {
    "execution": {
     "iopub.execute_input": "2025-09-23T05:59:20.902145Z",
     "iopub.status.busy": "2025-09-23T05:59:20.901825Z",
     "iopub.status.idle": "2025-09-23T05:59:20.904832Z",
     "shell.execute_reply": "2025-09-23T05:59:20.904358Z"
    },
    "papermill": {
     "duration": 0.007113,
     "end_time": "2025-09-23T05:59:20.905870",
     "exception": false,
     "start_time": "2025-09-23T05:59:20.898757",
     "status": "completed"
    },
    "tags": []
   },
   "outputs": [],
   "source": [
    "# torch.cuda.is_available()"
   ]
  },
  {
   "cell_type": "code",
   "execution_count": 3,
   "id": "8f9bb543",
   "metadata": {
    "execution": {
     "iopub.execute_input": "2025-09-23T05:59:20.911648Z",
     "iopub.status.busy": "2025-09-23T05:59:20.911455Z",
     "iopub.status.idle": "2025-09-23T05:59:26.313064Z",
     "shell.execute_reply": "2025-09-23T05:59:26.312256Z"
    },
    "papermill": {
     "duration": 5.406111,
     "end_time": "2025-09-23T05:59:26.314402",
     "exception": false,
     "start_time": "2025-09-23T05:59:20.908291",
     "status": "completed"
    },
    "tags": []
   },
   "outputs": [
    {
     "name": "stderr",
     "output_type": "stream",
     "text": [
      "100%|██████████| 26.4M/26.4M [00:01<00:00, 16.0MB/s]\n",
      "100%|██████████| 29.5k/29.5k [00:00<00:00, 269kB/s]\n",
      "100%|██████████| 4.42M/4.42M [00:00<00:00, 5.07MB/s]\n",
      "100%|██████████| 5.15k/5.15k [00:00<00:00, 11.8MB/s]\n"
     ]
    }
   ],
   "source": [
    "# download dataset\n",
    "data_set_folder = '/kaggle/working'\n",
    "# fashion mnist dataset\n",
    "fmnist = datasets.FashionMNIST(data_set_folder, download=True, train=True)"
   ]
  },
  {
   "cell_type": "code",
   "execution_count": 4,
   "id": "961d19df",
   "metadata": {
    "execution": {
     "iopub.execute_input": "2025-09-23T05:59:26.324429Z",
     "iopub.status.busy": "2025-09-23T05:59:26.324030Z",
     "iopub.status.idle": "2025-09-23T05:59:26.327748Z",
     "shell.execute_reply": "2025-09-23T05:59:26.326978Z"
    },
    "papermill": {
     "duration": 0.009212,
     "end_time": "2025-09-23T05:59:26.328989",
     "exception": false,
     "start_time": "2025-09-23T05:59:26.319777",
     "status": "completed"
    },
    "tags": []
   },
   "outputs": [],
   "source": [
    "train_fmnist = fmnist.data\n",
    "target_fmnist = fmnist.targets"
   ]
  },
  {
   "cell_type": "code",
   "execution_count": 5,
   "id": "b7dc0115",
   "metadata": {
    "execution": {
     "iopub.execute_input": "2025-09-23T05:59:26.337235Z",
     "iopub.status.busy": "2025-09-23T05:59:26.337020Z",
     "iopub.status.idle": "2025-09-23T05:59:26.341509Z",
     "shell.execute_reply": "2025-09-23T05:59:26.340934Z"
    },
    "papermill": {
     "duration": 0.009774,
     "end_time": "2025-09-23T05:59:26.342548",
     "exception": false,
     "start_time": "2025-09-23T05:59:26.332774",
     "status": "completed"
    },
    "tags": []
   },
   "outputs": [],
   "source": [
    "# fetch datasset\n",
    "class FmnistData(Dataset):\n",
    "    def __init__(self, x, y):\n",
    "        x = x.float()\n",
    "        x = x.view(-1, 28*28)\n",
    "        self.x, self.y = x, y\n",
    "    def __getitem__(self, ix):\n",
    "        x, y = self.x[ix], self.y[ix]\n",
    "        return x.to(device), y.to(device)\n",
    "    def __len__(self):\n",
    "        return len(self.x)"
   ]
  },
  {
   "cell_type": "code",
   "execution_count": 6,
   "id": "94a0a049",
   "metadata": {
    "execution": {
     "iopub.execute_input": "2025-09-23T05:59:26.350799Z",
     "iopub.status.busy": "2025-09-23T05:59:26.350590Z",
     "iopub.status.idle": "2025-09-23T05:59:26.354064Z",
     "shell.execute_reply": "2025-09-23T05:59:26.353390Z"
    },
    "papermill": {
     "duration": 0.009044,
     "end_time": "2025-09-23T05:59:26.355277",
     "exception": false,
     "start_time": "2025-09-23T05:59:26.346233",
     "status": "completed"
    },
    "tags": []
   },
   "outputs": [],
   "source": [
    "# load dataset\n",
    "def get_data():\n",
    "    train = FmnistData(train_fmnist, target_fmnist)\n",
    "    train_dl = DataLoader(train, batch_size=30, shuffle=True)\n",
    "    return train_dl"
   ]
  },
  {
   "cell_type": "code",
   "execution_count": 7,
   "id": "b1096253",
   "metadata": {
    "execution": {
     "iopub.execute_input": "2025-09-23T05:59:26.363200Z",
     "iopub.status.busy": "2025-09-23T05:59:26.362976Z",
     "iopub.status.idle": "2025-09-23T05:59:26.366908Z",
     "shell.execute_reply": "2025-09-23T05:59:26.366246Z"
    },
    "papermill": {
     "duration": 0.009123,
     "end_time": "2025-09-23T05:59:26.368017",
     "exception": false,
     "start_time": "2025-09-23T05:59:26.358894",
     "status": "completed"
    },
    "tags": []
   },
   "outputs": [],
   "source": [
    "# define model\n",
    "def get_model():\n",
    "    model = nn.Sequential(\n",
    "        nn.Linear(28*28, 1000),\n",
    "        nn.ReLU(),\n",
    "        nn.Linear(1000, 10) # 10 classes\n",
    "    ).to(device)\n",
    "    # calculate loss\n",
    "    loss_func = nn.CrossEntropyLoss()\n",
    "    # optimizer\n",
    "    optimizer = SGD(model.parameters(), lr=0.01)\n",
    "    return model, loss_func, optimizer"
   ]
  },
  {
   "cell_type": "code",
   "execution_count": 8,
   "id": "b7efff26",
   "metadata": {
    "execution": {
     "iopub.execute_input": "2025-09-23T05:59:26.376449Z",
     "iopub.status.busy": "2025-09-23T05:59:26.376043Z",
     "iopub.status.idle": "2025-09-23T05:59:26.379651Z",
     "shell.execute_reply": "2025-09-23T05:59:26.379152Z"
    },
    "papermill": {
     "duration": 0.008902,
     "end_time": "2025-09-23T05:59:26.380739",
     "exception": false,
     "start_time": "2025-09-23T05:59:26.371837",
     "status": "completed"
    },
    "tags": []
   },
   "outputs": [],
   "source": [
    "# train batch\n",
    "def train_batch(x, y, model, optimizer, loss_func):\n",
    "    model.train()\n",
    "    prediction = model(x)\n",
    "    batch_loss = loss_func(prediction, y)\n",
    "    batch_loss.backward()\n",
    "    # weight update\n",
    "    optimizer.step()\n",
    "    # reset previous grads\n",
    "    optimizer.zero_grad()\n",
    "    return batch_loss.item()"
   ]
  },
  {
   "cell_type": "code",
   "execution_count": 9,
   "id": "7c383ff0",
   "metadata": {
    "execution": {
     "iopub.execute_input": "2025-09-23T05:59:26.389734Z",
     "iopub.status.busy": "2025-09-23T05:59:26.389563Z",
     "iopub.status.idle": "2025-09-23T05:59:26.393336Z",
     "shell.execute_reply": "2025-09-23T05:59:26.392615Z"
    },
    "papermill": {
     "duration": 0.010009,
     "end_time": "2025-09-23T05:59:26.394550",
     "exception": false,
     "start_time": "2025-09-23T05:59:26.384541",
     "status": "completed"
    },
    "tags": []
   },
   "outputs": [],
   "source": [
    "# calculate accuracy\n",
    "@torch.no_grad() # disable grads\n",
    "def accuracy(x, y, model):\n",
    "    model.eval()\n",
    "    prediction = model(x)\n",
    "    max_values, argmaxes = prediction.max(-1)\n",
    "    is_correct = argmaxes == y\n",
    "    return is_correct.cpu().numpy().tolist()"
   ]
  },
  {
   "cell_type": "code",
   "execution_count": 10,
   "id": "dc86f55b",
   "metadata": {
    "execution": {
     "iopub.execute_input": "2025-09-23T05:59:26.402893Z",
     "iopub.status.busy": "2025-09-23T05:59:26.402701Z",
     "iopub.status.idle": "2025-09-23T06:00:41.307293Z",
     "shell.execute_reply": "2025-09-23T06:00:41.306626Z"
    },
    "papermill": {
     "duration": 74.910433,
     "end_time": "2025-09-23T06:00:41.308709",
     "exception": false,
     "start_time": "2025-09-23T05:59:26.398276",
     "status": "completed"
    },
    "tags": []
   },
   "outputs": [
    {
     "name": "stdout",
     "output_type": "stream",
     "text": [
      "0\n",
      "1\n",
      "2\n",
      "3\n",
      "4\n",
      "5\n",
      "6\n",
      "7\n",
      "8\n",
      "9\n"
     ]
    }
   ],
   "source": [
    "# train the model without data scale\n",
    "train_dl = get_data()\n",
    "model, loss_func, optimizer = get_model()\n",
    "losses, accuracies = [], []\n",
    "for epoch in range(10):\n",
    "    print(epoch)\n",
    "    epoch_losses, epoch_accuracies = [], []\n",
    "    # training\n",
    "    for ix, batch in enumerate(iter(train_dl)):\n",
    "        x, y = batch\n",
    "        batch_loss = train_batch(x, y, model, optimizer, loss_func)\n",
    "        epoch_losses.append(batch_loss)\n",
    "    epoch_loss = np.array(epoch_losses).mean()\n",
    "    # evaluation\n",
    "    for ix, batch in enumerate(iter(train_dl)):\n",
    "        x, y = batch\n",
    "        is_correct = accuracy(x, y, model)\n",
    "        epoch_accuracies.extend(is_correct)\n",
    "    epoch_accuracy = np.mean(epoch_accuracies)\n",
    "    losses.append(epoch_loss)\n",
    "    accuracies.append(epoch_accuracy)"
   ]
  },
  {
   "cell_type": "code",
   "execution_count": 11,
   "id": "2e11132b",
   "metadata": {
    "execution": {
     "iopub.execute_input": "2025-09-23T06:00:41.318642Z",
     "iopub.status.busy": "2025-09-23T06:00:41.317950Z",
     "iopub.status.idle": "2025-09-23T06:00:41.697433Z",
     "shell.execute_reply": "2025-09-23T06:00:41.696704Z"
    },
    "papermill": {
     "duration": 0.385299,
     "end_time": "2025-09-23T06:00:41.698592",
     "exception": false,
     "start_time": "2025-09-23T06:00:41.313293",
     "status": "completed"
    },
    "tags": []
   },
   "outputs": [
    {
     "data": {
      "text/plain": [
       "<matplotlib.legend.Legend at 0x7d5f79743c50>"
      ]
     },
     "execution_count": 11,
     "metadata": {},
     "output_type": "execute_result"
    },
    {
     "data": {
      "image/png": "[encoded data removed]",
      "text/plain": [
       "<Figure size 640x480 with 2 Axes>"
      ]
     },
     "metadata": {},
     "output_type": "display_data"
    }
   ],
   "source": [
    "epochs = np.arange(10) + 1\n",
    "plt.subplot(121)\n",
    "plt.title('loss over increasing epochs')\n",
    "plt.plot(epochs, losses, label='training loss')\n",
    "plt.legend()\n",
    "plt.subplot(122)\n",
    "plt.title('accuracy over increasing epochs')\n",
    "plt.plot(epochs, accuracies, label='training accuracy')\n",
    "plt.legend()"
   ]
  },
  {
   "cell_type": "code",
   "execution_count": 12,
   "id": "319a38cb",
   "metadata": {
    "execution": {
     "iopub.execute_input": "2025-09-23T06:00:41.709029Z",
     "iopub.status.busy": "2025-09-23T06:00:41.708811Z",
     "iopub.status.idle": "2025-09-23T06:00:41.716015Z",
     "shell.execute_reply": "2025-09-23T06:00:41.715504Z"
    },
    "papermill": {
     "duration": 0.013702,
     "end_time": "2025-09-23T06:00:41.717182",
     "exception": false,
     "start_time": "2025-09-23T06:00:41.703480",
     "status": "completed"
    },
    "tags": []
   },
   "outputs": [],
   "source": [
    "# fetch datasset\n",
    "class FmnistData(Dataset):\n",
    "    def __init__(self, x, y):\n",
    "        x = x.float()/255 # scale data\n",
    "        x = x.view(-1, 28*28)\n",
    "        self.x, self.y = x, y\n",
    "    def __getitem__(self, ix):\n",
    "        x, y = self.x[ix], self.y[ix]\n",
    "        return x.to(device), y.to(device)\n",
    "    def __len__(self):\n",
    "        return len(self.x)\n",
    "        \n",
    "# load dataset\n",
    "def get_data():\n",
    "    train = FmnistData(train_fmnist, target_fmnist)\n",
    "    train_dl = DataLoader(train, batch_size=30, shuffle=True)\n",
    "    return train_dl\n",
    "\n",
    "# define model\n",
    "def get_model():\n",
    "    model = nn.Sequential(\n",
    "        nn.Linear(28*28, 1000),\n",
    "        nn.ReLU(),\n",
    "        nn.Linear(1000, 10) # 10 classes\n",
    "    ).to(device)\n",
    "    # calculate loss\n",
    "    loss_func = nn.CrossEntropyLoss()\n",
    "    # optimizer\n",
    "    optimizer = SGD(model.parameters(), lr=0.01)\n",
    "    return model, loss_func, optimizer\n",
    "\n",
    "# train batch\n",
    "def train_batch(x, y, model, optimizer, loss_func):\n",
    "    model.train()\n",
    "    prediction = model(x)\n",
    "    batch_loss = loss_func(prediction, y)\n",
    "    batch_loss.backward()\n",
    "    # weight update\n",
    "    optimizer.step()\n",
    "    # reset previous grads\n",
    "    optimizer.zero_grad()\n",
    "    return batch_loss.item()\n",
    "    \n",
    "# calculate accuracy\n",
    "@torch.no_grad() # disable grads\n",
    "def accuracy(x, y, model):\n",
    "    model.eval()\n",
    "    prediction = model(x)\n",
    "    max_values, argmaxes = prediction.max(-1)\n",
    "    is_correct = argmaxes == y\n",
    "    return is_correct.cpu().numpy().tolist()"
   ]
  },
  {
   "cell_type": "code",
   "execution_count": 13,
   "id": "88d919cd",
   "metadata": {
    "execution": {
     "iopub.execute_input": "2025-09-23T06:00:41.727379Z",
     "iopub.status.busy": "2025-09-23T06:00:41.727152Z",
     "iopub.status.idle": "2025-09-23T06:01:56.652758Z",
     "shell.execute_reply": "2025-09-23T06:01:56.651916Z"
    },
    "papermill": {
     "duration": 74.93263,
     "end_time": "2025-09-23T06:01:56.654386",
     "exception": false,
     "start_time": "2025-09-23T06:00:41.721756",
     "status": "completed"
    },
    "tags": []
   },
   "outputs": [
    {
     "name": "stdout",
     "output_type": "stream",
     "text": [
      "0\n",
      "1\n",
      "2\n",
      "3\n",
      "4\n",
      "5\n",
      "6\n",
      "7\n",
      "8\n",
      "9\n"
     ]
    }
   ],
   "source": [
    "# train the model after data scale\n",
    "train_dl = get_data()\n",
    "model, loss_func, optimizer = get_model()\n",
    "losses, accuracies = [], []\n",
    "for epoch in range(10):\n",
    "    print(epoch)\n",
    "    epoch_losses, epoch_accuracies = [], []\n",
    "    # training\n",
    "    for ix, batch in enumerate(iter(train_dl)):\n",
    "        x, y = batch\n",
    "        batch_loss = train_batch(x, y, model, optimizer, loss_func)\n",
    "        epoch_losses.append(batch_loss)\n",
    "    epoch_loss = np.array(epoch_losses).mean()\n",
    "    # evaluation\n",
    "    for ix, batch in enumerate(iter(train_dl)):\n",
    "        x, y = batch\n",
    "        is_correct = accuracy(x, y, model)\n",
    "        epoch_accuracies.extend(is_correct)\n",
    "    epoch_accuracy = np.mean(epoch_accuracies)\n",
    "    losses.append(epoch_loss)\n",
    "    accuracies.append(epoch_accuracy)"
   ]
  },
  {
   "cell_type": "code",
   "execution_count": 14,
   "id": "8143bfe8",
   "metadata": {
    "execution": {
     "iopub.execute_input": "2025-09-23T06:01:56.666760Z",
     "iopub.status.busy": "2025-09-23T06:01:56.666533Z",
     "iopub.status.idle": "2025-09-23T06:01:56.978099Z",
     "shell.execute_reply": "2025-09-23T06:01:56.977415Z"
    },
    "papermill": {
     "duration": 0.318599,
     "end_time": "2025-09-23T06:01:56.979367",
     "exception": false,
     "start_time": "2025-09-23T06:01:56.660768",
     "status": "completed"
    },
    "tags": []
   },
   "outputs": [
    {
     "data": {
      "text/plain": [
       "<matplotlib.legend.Legend at 0x7d5f78513c50>"
      ]
     },
     "execution_count": 14,
     "metadata": {},
     "output_type": "execute_result"
    },
    {
     "data": {
      "image/png": "[encoded data removed]",
      "text/plain": [
       "<Figure size 640x480 with 2 Axes>"
      ]
     },
     "metadata": {},
     "output_type": "display_data"
    }
   ],
   "source": [
    "epochs = np.arange(10) + 1\n",
    "plt.subplot(121)\n",
    "plt.title('loss over increasing epochs')\n",
    "plt.plot(epochs, losses, label='training loss')\n",
    "plt.legend()\n",
    "plt.subplot(122)\n",
    "plt.title('accuracy over increasing epochs')\n",
    "plt.plot(epochs, accuracies, label='training accuracy')\n",
    "plt.legend()"
   ]
  }
 ],
 "metadata": {
  "kaggle": {
   "accelerator": "nvidiaTeslaT4",
   "dataSources": [],
   "dockerImageVersionId": 31090,
   "isGpuEnabled": true,
   "isInternetEnabled": true,
   "language": "python",
   "sourceType": "notebook"
  },
  "kernelspec": {
   "display_name": "Python 3",
   "language": "python",
   "name": "python3"
  },
  "language_info": {
   "codemirror_mode": {
    "name": "ipython",
    "version": 3
   },
   "file_extension": ".py",
   "mimetype": "text/x-python",
   "name": "python",
   "nbconvert_exporter": "python",
   "pygments_lexer": "ipython3",
   "version": "3.11.13"
  },
  "papermill": {
   "default_parameters": {},
   "duration": 170.102111,
   "end_time": "2025-09-23T06:01:59.257045",
   "environment_variables": {},
   "exception": null,
   "input_path": "__notebook__.ipynb",
   "output_path": "__notebook__.ipynb",
   "parameters": {},
   "start_time": "2025-09-23T05:59:09.154934",
   "version": "2.6.0"
  }
 },
 "nbformat": 4,
 "nbformat_minor": 5
}
