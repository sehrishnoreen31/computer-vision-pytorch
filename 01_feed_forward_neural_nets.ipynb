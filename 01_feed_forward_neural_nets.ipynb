{
 "cells": [
  {
   "cell_type": "code",
   "execution_count": 31,
   "id": "9b2923f6",
   "metadata": {},
   "outputs": [],
   "source": [
    "import numpy as np \n",
    "from copy import deepcopy\n",
    "import matplotlib.pyplot as plt\n",
    "%matplotlib inline"
   ]
  },
  {
   "cell_type": "markdown",
   "id": "95a9a320",
   "metadata": {},
   "source": [
    "## Feed Forward NN"
   ]
  },
  {
   "cell_type": "code",
   "execution_count": 32,
   "id": "a9254c45",
   "metadata": {},
   "outputs": [],
   "source": [
    "def feed_forward(inputs, outputs, weights):\n",
    "    pre_hidden = np.dot(inputs, weights[0]) + weights[1]\n",
    "    hidden = 1 / (1 + np.exp(-pre_hidden))\n",
    "    pred_out = np.dot(hidden, weights[2]) + weights[3]\n",
    "    mean_squared_error = np.mean(np.square(pred_out - outputs))\n",
    "    return mean_squared_error"
   ]
  },
  {
   "cell_type": "code",
   "execution_count": 33,
   "id": "e7ed1d93",
   "metadata": {},
   "outputs": [],
   "source": [
    "# inputs = np.array([\n",
    "#     [0, 0],\n",
    "#     [0, 1],\n",
    "#     [1, 0],\n",
    "#     [1, 1]\n",
    "# ])\n",
    "\n",
    "# outputs = np.array([\n",
    "#     [0],\n",
    "#     [1],\n",
    "#     [1],\n",
    "#     [0]\n",
    "# ])\n",
    "# W1 = np.array([\n",
    "#     [0.2, -0.3],\n",
    "#     [0.4,  0.1]\n",
    "# ])\n",
    "# b1 = np.array([0.1, -0.2])\n",
    "\n",
    "# W2 = np.array([\n",
    "#     [0.6],\n",
    "#     [-0.4]\n",
    "# ])\n",
    "# b2 = np.array([0.05])\n",
    "\n",
    "# # all into one list\n",
    "# weights = [W1, b1, W2, b2]\n",
    "\n",
    "# loss = feed_forward(inputs, outputs, weights)\n",
    "# print('loss: ', loss)"
   ]
  },
  {
   "cell_type": "markdown",
   "id": "60813cd8",
   "metadata": {},
   "source": [
    "## Backprop"
   ]
  },
  {
   "cell_type": "code",
   "execution_count": null,
   "id": "269ce0ac",
   "metadata": {},
   "outputs": [],
   "source": [
    "def update_weights(inputs, outputs, weights, lr):\n",
    "    # keeping copy of weights\n",
    "    original_weights = deepcopy(weights)\n",
    "    temp_weights = deepcopy(weights)\n",
    "    updated_weights = deepcopy(weights)\n",
    "\n",
    "    # make predictions, compute loss\n",
    "    original_loss = feed_forward(inputs, outputs, original_weights)\n",
    "\n",
    "    for i, layer in enumerate(original_weights):\n",
    "        for index, weight in np.ndenumerate(layer):\n",
    "            temp_weights = deepcopy(weights)\n",
    "            temp_weights[i][index] += 0.0001 # (x + h)\n",
    "            _loss_plus = feed_forward(inputs, outputs, temp_weights)\n",
    "            # slope/derivative = f(x + h) - f(x) / h \n",
    "            grad = (_loss_plus - original_loss) / 0.0001\n",
    "            # update weights\n",
    "            updated_weights[i][index] -= grad * lr\n",
    "    return updated_weights, original_loss"
   ]
  },
  {
   "cell_type": "code",
   "execution_count": 35,
   "id": "a97a5502",
   "metadata": {},
   "outputs": [],
   "source": [
    "# inputs = np.array([[0.5, 1.2],\n",
    "#                    [1.0, -0.7]])\n",
    "# outputs = np.array([[1.0],\n",
    "#                     [0.0]])\n",
    "# W1 = np.array([\n",
    "#     [0.2, -0.3],\n",
    "#     [0.4,  0.1]\n",
    "# ])\n",
    "# b1 = np.array([0.1, -0.2])\n",
    "# W2 = np.array([\n",
    "#     [0.6],\n",
    "#     [-0.4]\n",
    "# ])\n",
    "# b2 = np.array([0.05])\n",
    "# weights = [W1, b1, W2, b2]\n",
    "\n",
    "# lr = 0.01\n",
    "# updated_weights, original_loss = update_weights(inputs, outputs, weights, lr)\n",
    "# display('weights: ', updated_weights, 'loss: ', original_loss)"
   ]
  },
  {
   "cell_type": "code",
   "execution_count": 36,
   "id": "65f6f6d7",
   "metadata": {},
   "outputs": [
    {
     "data": {
      "text/plain": [
       "[np.float64(0.33455008989960927),\n",
       " np.float64(0.31207511631926566),\n",
       " np.float64(0.2911120956789758),\n",
       " np.float64(0.2715584285618008),\n",
       " np.float64(0.25331865368289397),\n",
       " np.float64(0.23630390535663506),\n",
       " np.float64(0.22043418057939854),\n",
       " np.float64(0.20562934393762614),\n",
       " np.float64(0.19181767195565072),\n",
       " np.float64(0.17893238381869275)]"
      ]
     },
     "metadata": {},
     "output_type": "display_data"
    }
   ],
   "source": [
    "# using chain rule\n",
    "\n",
    "# data\n",
    "x = np.array([[1,1]])\n",
    "y = np.array([[0]])\n",
    "\n",
    "# weights\n",
    "W = [\n",
    " # layer 1 weights \n",
    " np.array([[-0.0053, 0.3793],\n",
    " [-0.5820, -0.5204],\n",
    " [-0.2723, 0.1896]], dtype=np.float32).T,\n",
    " # hidden layer weights\n",
    " np.array([-0.0140, 0.5607, -0.0628], dtype=np.float32),\n",
    " np.array([[ 0.1528,-0.1745,-0.1135]],dtype=np.float32).T,\n",
    " # output layer weights\n",
    " np.array([-0.5516], dtype=np.float32)\n",
    "]\n",
    "\n",
    "# 100 epochs\n",
    "losses = []\n",
    "for i in range(100):\n",
    "    W, loss = update_weights(x, y, W, 0.01)\n",
    "    losses.append(loss)\n",
    "display(losses[:10])"
   ]
  },
  {
   "cell_type": "code",
   "execution_count": 37,
   "id": "3a414245",
   "metadata": {},
   "outputs": [
    {
     "data": {
      "text/plain": [
       "[array([[ 0.01424004, -0.5907864 , -0.27549535],\n",
       "        [ 0.39883757, -0.52918637,  0.18640439]], dtype=float32),\n",
       " array([ 0.00554004,  0.5519136 , -0.06599568], dtype=float32),\n",
       " array([[ 0.3475135 ],\n",
       "        [-0.05529078],\n",
       "        [ 0.03760847]], dtype=float32),\n",
       " array([-0.22443289], dtype=float32)]"
      ]
     },
     "metadata": {},
     "output_type": "display_data"
    }
   ],
   "source": [
    "# updated weights after training\n",
    "display(W)"
   ]
  },
  {
   "cell_type": "code",
   "execution_count": 38,
   "id": "7a4a96f2",
   "metadata": {},
   "outputs": [
    {
     "data": {
      "text/plain": [
       "Text(0, 0.5, 'loss')"
      ]
     },
     "execution_count": 38,
     "metadata": {},
     "output_type": "execute_result"
    },
    {
     "data": {
      "image/png": "[encoded data removed]",
      "text/plain": [
       "<Figure size 600x300 with 1 Axes>"
      ]
     },
     "metadata": {},
     "output_type": "display_data"
    }
   ],
   "source": [
    "plt.figure(figsize=(6,3))\n",
    "plt.plot(losses)\n",
    "plt.title('losses over 100 epochs')\n",
    "plt.xlabel('epochs')\n",
    "plt.ylabel('loss')"
   ]
  },
  {
   "cell_type": "code",
   "execution_count": 39,
   "id": "50853e22",
   "metadata": {},
   "outputs": [
    {
     "data": {
      "text/plain": [
       "array([[-0.0174781]])"
      ]
     },
     "metadata": {},
     "output_type": "display_data"
    }
   ],
   "source": [
    "pre_hidden = np.dot(x, W[0]) + W[1]\n",
    "hidden = 1 / (1 + np.exp(-pre_hidden))\n",
    "pred_out = np.dot(hidden, W[2]) + W[3]\n",
    "display(pred_out)"
   ]
  }
 ],
 "metadata": {
  "kernelspec": {
   "display_name": ".cvpytorch",
   "language": "python",
   "name": "python3"
  },
  "language_info": {
   "codemirror_mode": {
    "name": "ipython",
    "version": 3
   },
   "file_extension": ".py",
   "mimetype": "text/x-python",
   "name": "python",
   "nbconvert_exporter": "python",
   "pygments_lexer": "ipython3",
   "version": "3.13.7"
  }
 },
 "nbformat": 4,
 "nbformat_minor": 5
}
