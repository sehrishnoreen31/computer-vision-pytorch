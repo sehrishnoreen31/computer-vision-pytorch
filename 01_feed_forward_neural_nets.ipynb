{
 "cells": [
  {
   "cell_type": "code",
   "execution_count": 14,
   "id": "9b2923f6",
   "metadata": {},
   "outputs": [],
   "source": [
    "import numpy as np "
   ]
  },
  {
   "cell_type": "markdown",
   "id": "95a9a320",
   "metadata": {},
   "source": [
    "## Feed Forward NN"
   ]
  },
  {
   "cell_type": "code",
   "execution_count": 15,
   "id": "a9254c45",
   "metadata": {},
   "outputs": [],
   "source": [
    "def feed_forward(inputs, outputs, weights):\n",
    "    pre_hidden = np.dot(inputs, weights[0]) + weights[1]\n",
    "    hidden = 1 / (1 + np.exp(-pre_hidden))\n",
    "    pred_out = np.dot(hidden, weights[2]) + weights[3]\n",
    "    mean_squared_error = np.mean(np.square(pred_out - outputs))\n",
    "    return mean_squared_error, pred_out"
   ]
  },
  {
   "cell_type": "code",
   "execution_count": 16,
   "id": "e7ed1d93",
   "metadata": {},
   "outputs": [
    {
     "name": "stdout",
     "output_type": "stream",
     "text": [
      "loss:  0.31953993459422547\n",
      "preds:\n",
      " [[0.18492111]\n",
      " [0.23346727]\n",
      " [0.24364924]\n",
      " [0.29038773]]\n"
     ]
    }
   ],
   "source": [
    "inputs = np.array([\n",
    "    [0, 0],\n",
    "    [0, 1],\n",
    "    [1, 0],\n",
    "    [1, 1]\n",
    "])\n",
    "\n",
    "outputs = np.array([\n",
    "    [0],\n",
    "    [1],\n",
    "    [1],\n",
    "    [0]\n",
    "])\n",
    "W1 = np.array([\n",
    "    [0.2, -0.3],\n",
    "    [0.4,  0.1]\n",
    "])\n",
    "b1 = np.array([0.1, -0.2])\n",
    "\n",
    "W2 = np.array([\n",
    "    [0.6],\n",
    "    [-0.4]\n",
    "])\n",
    "b2 = np.array([0.05])\n",
    "\n",
    "# all into one list\n",
    "weights = [W1, b1, W2, b2]\n",
    "\n",
    "loss, preds = feed_forward(inputs, outputs, weights)\n",
    "print('loss: ', loss)\n",
    "print('preds:\\n', preds)"
   ]
  }
 ],
 "metadata": {
  "kernelspec": {
   "display_name": ".cvenv",
   "language": "python",
   "name": "python3"
  },
  "language_info": {
   "codemirror_mode": {
    "name": "ipython",
    "version": 3
   },
   "file_extension": ".py",
   "mimetype": "text/x-python",
   "name": "python",
   "nbconvert_exporter": "python",
   "pygments_lexer": "ipython3",
   "version": "3.13.1"
  }
 },
 "nbformat": 4,
 "nbformat_minor": 5
}
